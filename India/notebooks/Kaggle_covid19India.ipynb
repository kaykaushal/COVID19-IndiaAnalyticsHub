{
 "cells": [
  {
   "cell_type": "markdown",
   "metadata": {},
   "source": [
    "# Kaggle Data into Elasticsearch"
   ]
  },
  {
   "cell_type": "code",
   "execution_count": 1,
   "metadata": {
    "ExecuteTime": {
     "end_time": "2020-03-31T06:11:57.050632Z",
     "start_time": "2020-03-31T06:11:56.374472Z"
    }
   },
   "outputs": [],
   "source": [
    "import os, glob\n",
    "import pandas as pd\n",
    "import numpy as np"
   ]
  },
  {
   "cell_type": "code",
   "execution_count": 5,
   "metadata": {
    "ExecuteTime": {
     "end_time": "2020-03-31T06:11:58.997544Z",
     "start_time": "2020-03-31T06:11:58.992228Z"
    }
   },
   "outputs": [],
   "source": [
    "kgdownload_loc = \"/Users/kaushalk/Downloads/covid19-in-india/\"\n",
    "kgfiles = os.listdir(kgdownload_loc)"
   ]
  },
  {
   "cell_type": "code",
   "execution_count": 6,
   "metadata": {
    "ExecuteTime": {
     "end_time": "2020-03-31T06:12:24.526033Z",
     "start_time": "2020-03-31T06:12:24.498684Z"
    }
   },
   "outputs": [],
   "source": [
    "def load_kgdata(loc, file):\n",
    "    df1 = pd.read_csv((loc+ file[1]))\n",
    "    df2 = pd.read_csv(loc+ file[2])\n",
    "    df3 = pd.read_csv(loc+ file[3])\n",
    "    df4 = pd.read_csv(loc+ file[4])\n",
    "    df5 = pd.read_csv(loc+ file[5])\n",
    "    return df1,df2,df3,df4,df5\n",
    "\n",
    "icmr_test, hosp_beds, age_grp, pop_ind, indv_df = load_kgdata(kgdownload_loc,kgfiles) "
   ]
  },
  {
   "cell_type": "code",
   "execution_count": 7,
   "metadata": {
    "ExecuteTime": {
     "end_time": "2020-03-31T06:12:33.801510Z",
     "start_time": "2020-03-31T06:12:33.790729Z"
    }
   },
   "outputs": [
    {
     "name": "stdout",
     "output_type": "stream",
     "text": [
      "<class 'pandas.core.frame.DataFrame'>\n",
      "RangeIndex: 1304 entries, 0 to 1303\n",
      "Data columns (total 12 columns):\n",
      " #   Column              Non-Null Count  Dtype \n",
      "---  ------              --------------  ----- \n",
      " 0   id                  1304 non-null   int64 \n",
      " 1   government_id       257 non-null    object\n",
      " 2   diagnosed_date      1304 non-null   object\n",
      " 3   age                 485 non-null    object\n",
      " 4   gender              533 non-null    object\n",
      " 5   detected_city       643 non-null    object\n",
      " 6   detected_district   955 non-null    object\n",
      " 7   detected_state      1085 non-null   object\n",
      " 8   nationality         414 non-null    object\n",
      " 9   current_status      1085 non-null   object\n",
      " 10  status_change_date  1082 non-null   object\n",
      " 11  notes               1060 non-null   object\n",
      "dtypes: int64(1), object(11)\n",
      "memory usage: 122.4+ KB\n"
     ]
    }
   ],
   "source": [
    "indv_df.info()"
   ]
  },
  {
   "cell_type": "code",
   "execution_count": 8,
   "metadata": {
    "ExecuteTime": {
     "end_time": "2020-03-31T06:13:55.481768Z",
     "start_time": "2020-03-31T06:13:55.435508Z"
    }
   },
   "outputs": [],
   "source": [
    "indv_df = indv_df[indv_df.count(1) > 4] # Keep only reocrds where more than half of the column reocrds not null\n",
    "indv_df.nationality.replace({\"Indian\": \"India\"}, inplace=True) # Replace Indian with India \n",
    "indv_df.nationality.fillna(\"India\",inplace=True) # fill null value with India assuming all are indian patient \n",
    "indv_df.notes.fillna('NotAvl', inplace=True) # Fill null value in notes with \"unknown\" status\n",
    "indv_df.status_change_date.fillna(indv_df.diagnosed_date,inplace=True) # replace status date nan value with dignosed date\n",
    "indv_df[['government_id','gender', 'detected_city', 'detected_district']] = indv_df[['government_id','gender', \n",
    "                                                                                     'detected_city', 'detected_district']].fillna('NotAvl')"
   ]
  },
  {
   "cell_type": "code",
   "execution_count": 9,
   "metadata": {
    "ExecuteTime": {
     "end_time": "2020-03-31T06:14:01.380954Z",
     "start_time": "2020-03-31T06:14:01.368213Z"
    }
   },
   "outputs": [
    {
     "name": "stdout",
     "output_type": "stream",
     "text": [
      "<class 'pandas.core.frame.DataFrame'>\n",
      "Int64Index: 1085 entries, 0 to 1084\n",
      "Data columns (total 12 columns):\n",
      " #   Column              Non-Null Count  Dtype \n",
      "---  ------              --------------  ----- \n",
      " 0   id                  1085 non-null   int64 \n",
      " 1   government_id       1085 non-null   object\n",
      " 2   diagnosed_date      1085 non-null   object\n",
      " 3   age                 485 non-null    object\n",
      " 4   gender              1085 non-null   object\n",
      " 5   detected_city       1085 non-null   object\n",
      " 6   detected_district   1085 non-null   object\n",
      " 7   detected_state      1085 non-null   object\n",
      " 8   nationality         1085 non-null   object\n",
      " 9   current_status      1085 non-null   object\n",
      " 10  status_change_date  1085 non-null   object\n",
      " 11  notes               1085 non-null   object\n",
      "dtypes: int64(1), object(11)\n",
      "memory usage: 110.2+ KB\n"
     ]
    }
   ],
   "source": [
    "indv_df.info()"
   ]
  },
  {
   "cell_type": "code",
   "execution_count": 10,
   "metadata": {
    "ExecuteTime": {
     "end_time": "2020-03-31T06:14:34.319282Z",
     "start_time": "2020-03-31T06:14:34.313310Z"
    }
   },
   "outputs": [],
   "source": [
    "indv_df.age.replace({'28-35':'32'}, inplace=True) # Fill Age \n",
    "indv_df['age'] = indv_df.age.fillna(-1).astype(int)"
   ]
  },
  {
   "cell_type": "code",
   "execution_count": 11,
   "metadata": {
    "ExecuteTime": {
     "end_time": "2020-03-31T06:16:37.169444Z",
     "start_time": "2020-03-31T06:16:37.160570Z"
    }
   },
   "outputs": [],
   "source": [
    "indv_df['diagnosed_date'] = pd.to_datetime(indv_df['diagnosed_date']).dt.date\n",
    "indv_df['status_change_date'] = pd.to_datetime(indv_df['status_change_date']).dt.date"
   ]
  },
  {
   "cell_type": "code",
   "execution_count": 12,
   "metadata": {
    "ExecuteTime": {
     "end_time": "2020-03-31T06:16:38.616402Z",
     "start_time": "2020-03-31T06:16:38.604606Z"
    }
   },
   "outputs": [
    {
     "name": "stdout",
     "output_type": "stream",
     "text": [
      "<class 'pandas.core.frame.DataFrame'>\n",
      "Int64Index: 1085 entries, 0 to 1084\n",
      "Data columns (total 12 columns):\n",
      " #   Column              Non-Null Count  Dtype \n",
      "---  ------              --------------  ----- \n",
      " 0   id                  1085 non-null   int64 \n",
      " 1   government_id       1085 non-null   object\n",
      " 2   diagnosed_date      1085 non-null   object\n",
      " 3   age                 1085 non-null   int64 \n",
      " 4   gender              1085 non-null   object\n",
      " 5   detected_city       1085 non-null   object\n",
      " 6   detected_district   1085 non-null   object\n",
      " 7   detected_state      1085 non-null   object\n",
      " 8   nationality         1085 non-null   object\n",
      " 9   current_status      1085 non-null   object\n",
      " 10  status_change_date  1085 non-null   object\n",
      " 11  notes               1085 non-null   object\n",
      "dtypes: int64(2), object(10)\n",
      "memory usage: 110.2+ KB\n"
     ]
    }
   ],
   "source": [
    "indv_df.info()"
   ]
  },
  {
   "cell_type": "code",
   "execution_count": 13,
   "metadata": {
    "ExecuteTime": {
     "end_time": "2020-03-31T06:17:03.000013Z",
     "start_time": "2020-03-31T06:17:02.990877Z"
    }
   },
   "outputs": [],
   "source": [
    "from elasticsearch import Elasticsearch\n",
    "from elasticsearch.helpers import bulk "
   ]
  },
  {
   "cell_type": "code",
   "execution_count": 15,
   "metadata": {
    "ExecuteTime": {
     "end_time": "2020-03-31T06:17:06.716085Z",
     "start_time": "2020-03-31T06:17:04.262607Z"
    }
   },
   "outputs": [
    {
     "data": {
      "text/plain": [
       "(1085, [])"
      ]
     },
     "execution_count": 15,
     "metadata": {},
     "output_type": "execute_result"
    }
   ],
   "source": [
    "es = Elasticsearch(['https://elasticsearch_host:9200'], \n",
    "                        http_auth=('user', 'password'), timeout = 3000)\n",
    "    # delete index if exists\n",
    "if es.indices.exists('covid19india-indvdb'):\n",
    "    es.indices.delete(index='covid19india-indvdb')\n",
    "\n",
    "\n",
    "    \n",
    "# Load the json doc in index\n",
    "es.indices.create(index='covid19india-indvdb', ignore=400, body={})\n",
    "documents = indv_df.to_dict(orient='records')\n",
    "bulk(es, documents, index = 'covid19india-indvdb', raise_on_error = True)"
   ]
  },
  {
   "cell_type": "markdown",
   "metadata": {},
   "source": [
    "## CovidOrg data"
   ]
  },
  {
   "cell_type": "code",
   "execution_count": 78,
   "metadata": {},
   "outputs": [],
   "source": [
    "data_url = \"https://raw.githubusercontent.com/covid19india/CovidCrowd/master/data/raw_data.csv\"\n",
    "data_dir =\"/Volumes/Lab/PROJECTS/COVID-19-AnalyticsHub/India/Data/\"\n",
    "\n",
    "df = pd.read_csv(data_url)\n"
   ]
  },
  {
   "cell_type": "code",
   "execution_count": 79,
   "metadata": {},
   "outputs": [
    {
     "data": {
      "text/plain": [
       "Index(['Patient Number', 'State Patient Number', 'Date Announced',\n",
       "       'Estimated Onset Date', 'Age Bracket', 'Gender', 'Detected City',\n",
       "       'Detected District', 'Detected State', 'Current Status', 'Notes',\n",
       "       'Contracted from which Patient (Suspected)', 'Nationality',\n",
       "       'Status Change Date', 'Source_1', 'Source_2', 'Source_3',\n",
       "       'Backup Notes'],\n",
       "      dtype='object')"
      ]
     },
     "execution_count": 79,
     "metadata": {},
     "output_type": "execute_result"
    }
   ],
   "source": [
    "df.columns"
   ]
  },
  {
   "cell_type": "code",
   "execution_count": 80,
   "metadata": {},
   "outputs": [
    {
     "name": "stdout",
     "output_type": "stream",
     "text": [
      "<class 'pandas.core.frame.DataFrame'>\n",
      "RangeIndex: 1058 entries, 0 to 1057\n",
      "Data columns (total 18 columns):\n",
      " #   Column                                     Non-Null Count  Dtype  \n",
      "---  ------                                     --------------  -----  \n",
      " 0   Patient Number                             1053 non-null   float64\n",
      " 1   State Patient Number                       245 non-null    object \n",
      " 2   Date Announced                             1053 non-null   object \n",
      " 3   Estimated Onset Date                       0 non-null      float64\n",
      " 4   Age Bracket                                473 non-null    float64\n",
      " 5   Gender                                     521 non-null    object \n",
      " 6   Detected City                              638 non-null    object \n",
      " 7   Detected District                          927 non-null    object \n",
      " 8   Detected State                             1053 non-null   object \n",
      " 9   Current Status                             1053 non-null   object \n",
      " 10  Notes                                      1047 non-null   object \n",
      " 11  Contracted from which Patient (Suspected)  243 non-null    object \n",
      " 12  Nationality                                406 non-null    object \n",
      " 13  Status Change Date                         1055 non-null   object \n",
      " 14  Source_1                                   1041 non-null   object \n",
      " 15  Source_2                                   530 non-null    object \n",
      " 16  Source_3                                   117 non-null    object \n",
      " 17  Backup Notes                               361 non-null    object \n",
      "dtypes: float64(3), object(15)\n",
      "memory usage: 148.9+ KB\n"
     ]
    }
   ],
   "source": [
    "df.info()"
   ]
  },
  {
   "cell_type": "code",
   "execution_count": 81,
   "metadata": {},
   "outputs": [
    {
     "data": {
      "text/plain": [
       "Index(['id', 'government_id', 'diagnosed_date', 'age', 'gender',\n",
       "       'detected_city', 'detected_district', 'detected_state', 'nationality',\n",
       "       'current_status', 'status_change_date', 'notes'],\n",
       "      dtype='object')"
      ]
     },
     "execution_count": 81,
     "metadata": {},
     "output_type": "execute_result"
    }
   ],
   "source": [
    "indv_df.columns"
   ]
  },
  {
   "cell_type": "code",
   "execution_count": 82,
   "metadata": {},
   "outputs": [
    {
     "data": {
      "text/html": [
       "<div>\n",
       "<style scoped>\n",
       "    .dataframe tbody tr th:only-of-type {\n",
       "        vertical-align: middle;\n",
       "    }\n",
       "\n",
       "    .dataframe tbody tr th {\n",
       "        vertical-align: top;\n",
       "    }\n",
       "\n",
       "    .dataframe thead th {\n",
       "        text-align: right;\n",
       "    }\n",
       "</style>\n",
       "<table border=\"1\" class=\"dataframe\">\n",
       "  <thead>\n",
       "    <tr style=\"text-align: right;\">\n",
       "      <th></th>\n",
       "      <th>id</th>\n",
       "      <th>government_id</th>\n",
       "      <th>diagnosed_date</th>\n",
       "      <th>age</th>\n",
       "      <th>gender</th>\n",
       "      <th>detected_city</th>\n",
       "      <th>detected_district</th>\n",
       "      <th>detected_state</th>\n",
       "      <th>current_status</th>\n",
       "      <th>notes</th>\n",
       "      <th>contracted</th>\n",
       "      <th>nationality</th>\n",
       "      <th>status_change_date</th>\n",
       "    </tr>\n",
       "  </thead>\n",
       "  <tbody>\n",
       "    <tr>\n",
       "      <th>0</th>\n",
       "      <td>1.0</td>\n",
       "      <td>KL-TS-P1</td>\n",
       "      <td>30/01/2020</td>\n",
       "      <td>20.0</td>\n",
       "      <td>F</td>\n",
       "      <td>Thrissur</td>\n",
       "      <td>Thrissur</td>\n",
       "      <td>Kerala</td>\n",
       "      <td>Recovered</td>\n",
       "      <td>Travelled from Wuhan</td>\n",
       "      <td>NaN</td>\n",
       "      <td>India</td>\n",
       "      <td>14/02/2020</td>\n",
       "    </tr>\n",
       "    <tr>\n",
       "      <th>1</th>\n",
       "      <td>2.0</td>\n",
       "      <td>KL-AL-P1</td>\n",
       "      <td>02/02/2020</td>\n",
       "      <td>NaN</td>\n",
       "      <td>NaN</td>\n",
       "      <td>Alappuzha</td>\n",
       "      <td>Alappuzha</td>\n",
       "      <td>Kerala</td>\n",
       "      <td>Recovered</td>\n",
       "      <td>Travelled from Wuhan</td>\n",
       "      <td>NaN</td>\n",
       "      <td>India</td>\n",
       "      <td>14/02/2020</td>\n",
       "    </tr>\n",
       "    <tr>\n",
       "      <th>2</th>\n",
       "      <td>3.0</td>\n",
       "      <td>KL-KS-P1</td>\n",
       "      <td>03/02/2020</td>\n",
       "      <td>NaN</td>\n",
       "      <td>NaN</td>\n",
       "      <td>Kasaragod</td>\n",
       "      <td>Kasaragod</td>\n",
       "      <td>Kerala</td>\n",
       "      <td>Recovered</td>\n",
       "      <td>Travelled from Wuhan</td>\n",
       "      <td>NaN</td>\n",
       "      <td>India</td>\n",
       "      <td>14/02/2020</td>\n",
       "    </tr>\n",
       "    <tr>\n",
       "      <th>3</th>\n",
       "      <td>4.0</td>\n",
       "      <td>DL-P1</td>\n",
       "      <td>02/03/2020</td>\n",
       "      <td>45.0</td>\n",
       "      <td>M</td>\n",
       "      <td>East Delhi (Mayur Vihar)</td>\n",
       "      <td>East Delhi</td>\n",
       "      <td>Delhi</td>\n",
       "      <td>Recovered</td>\n",
       "      <td>Travelled from Austria, Italy</td>\n",
       "      <td>NaN</td>\n",
       "      <td>India</td>\n",
       "      <td>15/03/2020</td>\n",
       "    </tr>\n",
       "    <tr>\n",
       "      <th>4</th>\n",
       "      <td>5.0</td>\n",
       "      <td>TS-P1</td>\n",
       "      <td>02/03/2020</td>\n",
       "      <td>24.0</td>\n",
       "      <td>M</td>\n",
       "      <td>Hyderabad</td>\n",
       "      <td>Hyderabad</td>\n",
       "      <td>Telangana</td>\n",
       "      <td>Recovered</td>\n",
       "      <td>NaN</td>\n",
       "      <td>NaN</td>\n",
       "      <td>India</td>\n",
       "      <td>02/03/2020</td>\n",
       "    </tr>\n",
       "  </tbody>\n",
       "</table>\n",
       "</div>"
      ],
      "text/plain": [
       "    id government_id diagnosed_date   age gender             detected_city  \\\n",
       "0  1.0      KL-TS-P1     30/01/2020  20.0      F                  Thrissur   \n",
       "1  2.0      KL-AL-P1     02/02/2020   NaN    NaN                 Alappuzha   \n",
       "2  3.0      KL-KS-P1     03/02/2020   NaN    NaN                 Kasaragod   \n",
       "3  4.0         DL-P1     02/03/2020  45.0      M  East Delhi (Mayur Vihar)   \n",
       "4  5.0         TS-P1     02/03/2020  24.0      M                 Hyderabad   \n",
       "\n",
       "  detected_district detected_state current_status  \\\n",
       "0          Thrissur         Kerala      Recovered   \n",
       "1         Alappuzha         Kerala      Recovered   \n",
       "2         Kasaragod         Kerala      Recovered   \n",
       "3        East Delhi          Delhi      Recovered   \n",
       "4         Hyderabad      Telangana      Recovered   \n",
       "\n",
       "                           notes contracted nationality status_change_date  \n",
       "0           Travelled from Wuhan        NaN       India         14/02/2020  \n",
       "1           Travelled from Wuhan        NaN       India         14/02/2020  \n",
       "2           Travelled from Wuhan        NaN       India         14/02/2020  \n",
       "3  Travelled from Austria, Italy        NaN       India         15/03/2020  \n",
       "4                            NaN        NaN       India         02/03/2020  "
      ]
     },
     "execution_count": 82,
     "metadata": {},
     "output_type": "execute_result"
    }
   ],
   "source": [
    "df = df.drop(['Estimated Onset Date', 'Source_1', 'Source_2', 'Source_3', 'Backup Notes'], axis=1)\n",
    "df.columns = ['id', 'government_id', 'diagnosed_date', 'age', 'gender',\n",
    "       'detected_city', 'detected_district', 'detected_state', 'current_status', \n",
    "              'notes', 'contracted','nationality', 'status_change_date']\n",
    "df.head()"
   ]
  },
  {
   "cell_type": "code",
   "execution_count": 83,
   "metadata": {},
   "outputs": [
    {
     "name": "stdout",
     "output_type": "stream",
     "text": [
      "<class 'pandas.core.frame.DataFrame'>\n",
      "RangeIndex: 1058 entries, 0 to 1057\n",
      "Data columns (total 13 columns):\n",
      " #   Column              Non-Null Count  Dtype  \n",
      "---  ------              --------------  -----  \n",
      " 0   id                  1053 non-null   float64\n",
      " 1   government_id       245 non-null    object \n",
      " 2   diagnosed_date      1053 non-null   object \n",
      " 3   age                 473 non-null    float64\n",
      " 4   gender              521 non-null    object \n",
      " 5   detected_city       638 non-null    object \n",
      " 6   detected_district   927 non-null    object \n",
      " 7   detected_state      1053 non-null   object \n",
      " 8   current_status      1053 non-null   object \n",
      " 9   notes               1047 non-null   object \n",
      " 10  contracted          243 non-null    object \n",
      " 11  nationality         406 non-null    object \n",
      " 12  status_change_date  1055 non-null   object \n",
      "dtypes: float64(2), object(11)\n",
      "memory usage: 107.6+ KB\n"
     ]
    }
   ],
   "source": [
    "df.info()"
   ]
  },
  {
   "cell_type": "code",
   "execution_count": 84,
   "metadata": {},
   "outputs": [
    {
     "name": "stdout",
     "output_type": "stream",
     "text": [
      "<class 'pandas.core.frame.DataFrame'>\n",
      "RangeIndex: 1058 entries, 0 to 1057\n",
      "Data columns (total 13 columns):\n",
      " #   Column              Non-Null Count  Dtype  \n",
      "---  ------              --------------  -----  \n",
      " 0   id                  1053 non-null   float64\n",
      " 1   government_id       245 non-null    object \n",
      " 2   diagnosed_date      1053 non-null   object \n",
      " 3   age                 473 non-null    float64\n",
      " 4   gender              521 non-null    object \n",
      " 5   detected_city       638 non-null    object \n",
      " 6   detected_district   927 non-null    object \n",
      " 7   detected_state      1053 non-null   object \n",
      " 8   current_status      1053 non-null   object \n",
      " 9   notes               1047 non-null   object \n",
      " 10  contracted          243 non-null    object \n",
      " 11  nationality         406 non-null    object \n",
      " 12  status_change_date  1055 non-null   object \n",
      "dtypes: float64(2), object(11)\n",
      "memory usage: 107.6+ KB\n"
     ]
    }
   ],
   "source": [
    "df.info()"
   ]
  },
  {
   "cell_type": "code",
   "execution_count": 89,
   "metadata": {},
   "outputs": [
    {
     "name": "stdout",
     "output_type": "stream",
     "text": [
      "<class 'pandas.core.frame.DataFrame'>\n",
      "Int64Index: 1052 entries, 0 to 1052\n",
      "Data columns (total 13 columns):\n",
      " #   Column              Non-Null Count  Dtype  \n",
      "---  ------              --------------  -----  \n",
      " 0   id                  1052 non-null   float64\n",
      " 1   government_id       1052 non-null   object \n",
      " 2   diagnosed_date      1052 non-null   object \n",
      " 3   age                 1052 non-null   float64\n",
      " 4   gender              1052 non-null   object \n",
      " 5   detected_city       1052 non-null   object \n",
      " 6   detected_district   1052 non-null   object \n",
      " 7   detected_state      1052 non-null   object \n",
      " 8   current_status      1052 non-null   object \n",
      " 9   notes               1052 non-null   object \n",
      " 10  contracted          1052 non-null   object \n",
      " 11  nationality         1052 non-null   object \n",
      " 12  status_change_date  1052 non-null   object \n",
      "dtypes: float64(2), object(11)\n",
      "memory usage: 115.1+ KB\n"
     ]
    }
   ],
   "source": [
    "#str_ = !pwd\n",
    "df = df[df.count(1) > 5]\n",
    "df.nationality.fillna(\"India\",inplace=True)\n",
    "df.notes.fillna(\"no notest\", inplace=True)\n",
    "df['gender'] = df.gender.replace({\"M\": \"Male\",\"F\": \"Female\"}).fillna(\"Not Available\")\n",
    "df['age'] = df.age.fillna(-1)\n",
    "df.status_change_date.fillna(df.diagnosed_date,inplace=True) # replace status date nan value with dignosed date\n",
    "df[['government_id', 'detected_city','detected_district', 'contracted']] = df[['government_id', \n",
    "                                                'detected_city', 'detected_district', 'contracted']].fillna('Not Available')\n",
    "df['diagnosed_date'] = pd.to_datetime(df['diagnosed_date']).dt.date\n",
    "df['status_change_date'] = pd.to_datetime(df['status_change_date']).dt.date\n",
    "df.info()"
   ]
  },
  {
   "cell_type": "code",
   "execution_count": 90,
   "metadata": {},
   "outputs": [
    {
     "data": {
      "text/html": [
       "<div>\n",
       "<style scoped>\n",
       "    .dataframe tbody tr th:only-of-type {\n",
       "        vertical-align: middle;\n",
       "    }\n",
       "\n",
       "    .dataframe tbody tr th {\n",
       "        vertical-align: top;\n",
       "    }\n",
       "\n",
       "    .dataframe thead th {\n",
       "        text-align: right;\n",
       "    }\n",
       "</style>\n",
       "<table border=\"1\" class=\"dataframe\">\n",
       "  <thead>\n",
       "    <tr style=\"text-align: right;\">\n",
       "      <th></th>\n",
       "      <th>id</th>\n",
       "      <th>government_id</th>\n",
       "      <th>diagnosed_date</th>\n",
       "      <th>age</th>\n",
       "      <th>gender</th>\n",
       "      <th>detected_city</th>\n",
       "      <th>detected_district</th>\n",
       "      <th>detected_state</th>\n",
       "      <th>current_status</th>\n",
       "      <th>notes</th>\n",
       "      <th>contracted</th>\n",
       "      <th>nationality</th>\n",
       "      <th>status_change_date</th>\n",
       "    </tr>\n",
       "  </thead>\n",
       "  <tbody>\n",
       "    <tr>\n",
       "      <th>0</th>\n",
       "      <td>1.0</td>\n",
       "      <td>KL-TS-P1</td>\n",
       "      <td>2020-01-30</td>\n",
       "      <td>20.0</td>\n",
       "      <td>Female</td>\n",
       "      <td>Thrissur</td>\n",
       "      <td>Thrissur</td>\n",
       "      <td>Kerala</td>\n",
       "      <td>Recovered</td>\n",
       "      <td>Travelled from Wuhan</td>\n",
       "      <td>Not Available</td>\n",
       "      <td>India</td>\n",
       "      <td>2020-02-14</td>\n",
       "    </tr>\n",
       "    <tr>\n",
       "      <th>1</th>\n",
       "      <td>2.0</td>\n",
       "      <td>KL-AL-P1</td>\n",
       "      <td>2020-02-02</td>\n",
       "      <td>-1.0</td>\n",
       "      <td>Not Available</td>\n",
       "      <td>Alappuzha</td>\n",
       "      <td>Alappuzha</td>\n",
       "      <td>Kerala</td>\n",
       "      <td>Recovered</td>\n",
       "      <td>Travelled from Wuhan</td>\n",
       "      <td>Not Available</td>\n",
       "      <td>India</td>\n",
       "      <td>2020-02-14</td>\n",
       "    </tr>\n",
       "    <tr>\n",
       "      <th>2</th>\n",
       "      <td>3.0</td>\n",
       "      <td>KL-KS-P1</td>\n",
       "      <td>2020-03-02</td>\n",
       "      <td>-1.0</td>\n",
       "      <td>Not Available</td>\n",
       "      <td>Kasaragod</td>\n",
       "      <td>Kasaragod</td>\n",
       "      <td>Kerala</td>\n",
       "      <td>Recovered</td>\n",
       "      <td>Travelled from Wuhan</td>\n",
       "      <td>Not Available</td>\n",
       "      <td>India</td>\n",
       "      <td>2020-02-14</td>\n",
       "    </tr>\n",
       "    <tr>\n",
       "      <th>3</th>\n",
       "      <td>4.0</td>\n",
       "      <td>DL-P1</td>\n",
       "      <td>2020-02-03</td>\n",
       "      <td>45.0</td>\n",
       "      <td>Male</td>\n",
       "      <td>East Delhi (Mayur Vihar)</td>\n",
       "      <td>East Delhi</td>\n",
       "      <td>Delhi</td>\n",
       "      <td>Recovered</td>\n",
       "      <td>Travelled from Austria, Italy</td>\n",
       "      <td>Not Available</td>\n",
       "      <td>India</td>\n",
       "      <td>2020-03-15</td>\n",
       "    </tr>\n",
       "    <tr>\n",
       "      <th>4</th>\n",
       "      <td>5.0</td>\n",
       "      <td>TS-P1</td>\n",
       "      <td>2020-02-03</td>\n",
       "      <td>24.0</td>\n",
       "      <td>Male</td>\n",
       "      <td>Hyderabad</td>\n",
       "      <td>Hyderabad</td>\n",
       "      <td>Telangana</td>\n",
       "      <td>Recovered</td>\n",
       "      <td>no notest</td>\n",
       "      <td>Not Available</td>\n",
       "      <td>India</td>\n",
       "      <td>2020-02-03</td>\n",
       "    </tr>\n",
       "  </tbody>\n",
       "</table>\n",
       "</div>"
      ],
      "text/plain": [
       "    id government_id diagnosed_date   age         gender  \\\n",
       "0  1.0      KL-TS-P1     2020-01-30  20.0         Female   \n",
       "1  2.0      KL-AL-P1     2020-02-02  -1.0  Not Available   \n",
       "2  3.0      KL-KS-P1     2020-03-02  -1.0  Not Available   \n",
       "3  4.0         DL-P1     2020-02-03  45.0           Male   \n",
       "4  5.0         TS-P1     2020-02-03  24.0           Male   \n",
       "\n",
       "              detected_city detected_district detected_state current_status  \\\n",
       "0                  Thrissur          Thrissur         Kerala      Recovered   \n",
       "1                 Alappuzha         Alappuzha         Kerala      Recovered   \n",
       "2                 Kasaragod         Kasaragod         Kerala      Recovered   \n",
       "3  East Delhi (Mayur Vihar)        East Delhi          Delhi      Recovered   \n",
       "4                 Hyderabad         Hyderabad      Telangana      Recovered   \n",
       "\n",
       "                           notes     contracted nationality status_change_date  \n",
       "0           Travelled from Wuhan  Not Available       India         2020-02-14  \n",
       "1           Travelled from Wuhan  Not Available       India         2020-02-14  \n",
       "2           Travelled from Wuhan  Not Available       India         2020-02-14  \n",
       "3  Travelled from Austria, Italy  Not Available       India         2020-03-15  \n",
       "4                      no notest  Not Available       India         2020-02-03  "
      ]
     },
     "execution_count": 90,
     "metadata": {},
     "output_type": "execute_result"
    }
   ],
   "source": [
    "df.head()"
   ]
  },
  {
   "cell_type": "code",
   "execution_count": null,
   "metadata": {},
   "outputs": [],
   "source": []
  },
  {
   "cell_type": "markdown",
   "metadata": {},
   "source": [
    "## Export into Elasticsearch Index"
   ]
  },
  {
   "cell_type": "code",
   "execution_count": 100,
   "metadata": {},
   "outputs": [],
   "source": [
    "from elasticsearch import Elasticsearch\n",
    "from elasticsearch.helpers import bulk "
   ]
  },
  {
   "cell_type": "code",
   "execution_count": 99,
   "metadata": {},
   "outputs": [
    {
     "data": {
      "text/plain": [
       "(1052, [])"
      ]
     },
     "execution_count": 99,
     "metadata": {},
     "output_type": "execute_result"
    }
   ],
   "source": [
    "es = Elasticsearch(['https://elasticsearch_host:9200'], \n",
    "                        http_auth=('user', 'password'), timeout = 3000)\n",
    "    # delete index if exists\n",
    "if es.indices.exists('covid19indiaorg'):\n",
    "    es.indices.delete(index='covid19indiaorg')\n",
    "\n",
    "\n",
    "    \n",
    "# Load the json doc in index\n",
    "es.indices.create(index='covid19indiaorg', ignore=400, body={})\n",
    "documents = df.to_dict(orient='records')\n",
    "bulk(es, documents, index = 'covid19indiaorg', raise_on_error = True)"
   ]
  },
  {
   "cell_type": "code",
   "execution_count": 134,
   "metadata": {},
   "outputs": [
    {
     "name": "stdout",
     "output_type": "stream",
     "text": [
      "No of inserted records: 1052\n"
     ]
    }
   ],
   "source": [
    "print(f'No of inserted records:', len(documents))"
   ]
  },
  {
   "cell_type": "code",
   "execution_count": null,
   "metadata": {},
   "outputs": [],
   "source": []
  },
  {
   "cell_type": "code",
   "execution_count": null,
   "metadata": {},
   "outputs": [],
   "source": []
  },
  {
   "cell_type": "code",
   "execution_count": null,
   "metadata": {},
   "outputs": [],
   "source": []
  },
  {
   "cell_type": "code",
   "execution_count": null,
   "metadata": {},
   "outputs": [],
   "source": []
  },
  {
   "cell_type": "code",
   "execution_count": 114,
   "metadata": {},
   "outputs": [],
   "source": [
    "import os, glob\n",
    "import datetime\n",
    "from requests import get\n",
    "import pandas as pd\n",
    "import numpy as np\n",
    "import tqdm\n",
    "import urllib3\n",
    "from bs4 import BeautifulSoup"
   ]
  },
  {
   "cell_type": "code",
   "execution_count": 135,
   "metadata": {},
   "outputs": [],
   "source": [
    "WEB_URL = \"https://www.mohfw.gov.in\"\n",
    "REPO_FILFES = \"/Volumes/Lab/covid19-AnalyticsHbub/India/data/mhw_ind_covid_daily_reports/\"\n",
    "GEO_DATA = \"/Volumes/Lab/PROJECTS/COVID-19-AnalyticsHub/India/data/state_geo_table.csv\""
   ]
  },
  {
   "cell_type": "code",
   "execution_count": 115,
   "metadata": {},
   "outputs": [],
   "source": [
    "WEB_URL = \"https://www.mohfw.gov.in\"\n",
    "REPO_FILFES = \"/Volumes/Lab/covid19-AnalyticsHbub/India/data/mhw_ind_covid_daily_reports/\"\n",
    "GEO_DATA = \"/Volumes/Lab/PROJECTS/COVID-19-AnalyticsHub/India/data/state_geo_table.csv\"\n",
    "\n",
    "\n",
    "def ind_mh_web_scrap(url, data_dir):\n",
    "    #df = pd.read_html(url, header=0)[1].iloc[:,1:]\n",
    "    df = pd.read_html(url)[-1].iloc[:,1:] #Read covid-19 india \n",
    "    df.columns = ['State/UT', 'Confirmed','Recovered', 'Deaths']\n",
    "    df.loc[(df['State/UT'].str.contains(\"Total\")),'State/UT'] = \"India\"\n",
    "    if df.Confirmed.dtypes == 'O':\n",
    "        df = df.select_dtypes(include=['object']).apply(lambda x: x.str.replace('#','')).iloc[:-1,:]\n",
    "    #df = df.select_dtypes(include=['object']).apply(lambda x: x.str.replace('#',''))\n",
    "    df['report_date'] = pd.Timestamp.now().normalize()\n",
    "    df['report_date'] = pd.to_datetime(df['report_date']).dt.date\n",
    "    file_name = datetime.datetime.now().strftime(\"%Y-%m-%d\")\n",
    "    df.to_csv(data_dir+file_name+'.csv', index=False)"
   ]
  },
  {
   "cell_type": "code",
   "execution_count": 116,
   "metadata": {},
   "outputs": [],
   "source": [
    "ind_mh_web_scrap(WEB_URL,REPO_FILFES)"
   ]
  },
  {
   "cell_type": "code",
   "execution_count": 113,
   "metadata": {},
   "outputs": [
    {
     "data": {
      "text/plain": [
       "'1.0.0'"
      ]
     },
     "execution_count": 113,
     "metadata": {},
     "output_type": "execute_result"
    }
   ],
   "source": [
    "pd.__version__"
   ]
  },
  {
   "cell_type": "code",
   "execution_count": 130,
   "metadata": {},
   "outputs": [],
   "source": [
    "#\"/Volumes/Lab/covid19-AnalyticsHbub/India/data/mhw_ind_covid_daily_reports\"\n",
    "dir_ = '/Volumes/Lab/covid19-AnalyticsHbub/India/data/mhw_ind_covid_daily_reports/'"
   ]
  },
  {
   "cell_type": "code",
   "execution_count": 131,
   "metadata": {},
   "outputs": [
    {
     "data": {
      "text/html": [
       "<div>\n",
       "<style scoped>\n",
       "    .dataframe tbody tr th:only-of-type {\n",
       "        vertical-align: middle;\n",
       "    }\n",
       "\n",
       "    .dataframe tbody tr th {\n",
       "        vertical-align: top;\n",
       "    }\n",
       "\n",
       "    .dataframe thead th {\n",
       "        text-align: right;\n",
       "    }\n",
       "</style>\n",
       "<table border=\"1\" class=\"dataframe\">\n",
       "  <thead>\n",
       "    <tr style=\"text-align: right;\">\n",
       "      <th></th>\n",
       "      <th>State/UT</th>\n",
       "      <th>Confirmed</th>\n",
       "      <th>Recovered</th>\n",
       "      <th>Deaths</th>\n",
       "      <th>report_date</th>\n",
       "    </tr>\n",
       "  </thead>\n",
       "  <tbody>\n",
       "    <tr>\n",
       "      <th>0</th>\n",
       "      <td>Andhra Pradesh</td>\n",
       "      <td>83</td>\n",
       "      <td>0</td>\n",
       "      <td>0</td>\n",
       "      <td>2020-04-02</td>\n",
       "    </tr>\n",
       "    <tr>\n",
       "      <th>1</th>\n",
       "      <td>Andaman and Nicobar Islands</td>\n",
       "      <td>10</td>\n",
       "      <td>1</td>\n",
       "      <td>0</td>\n",
       "      <td>2020-04-02</td>\n",
       "    </tr>\n",
       "    <tr>\n",
       "      <th>2</th>\n",
       "      <td>Assam</td>\n",
       "      <td>1</td>\n",
       "      <td>0</td>\n",
       "      <td>0</td>\n",
       "      <td>2020-04-02</td>\n",
       "    </tr>\n",
       "    <tr>\n",
       "      <th>3</th>\n",
       "      <td>Bihar</td>\n",
       "      <td>23</td>\n",
       "      <td>0</td>\n",
       "      <td>1</td>\n",
       "      <td>2020-04-02</td>\n",
       "    </tr>\n",
       "    <tr>\n",
       "      <th>4</th>\n",
       "      <td>Chandigarh</td>\n",
       "      <td>16</td>\n",
       "      <td>0</td>\n",
       "      <td>0</td>\n",
       "      <td>2020-04-02</td>\n",
       "    </tr>\n",
       "    <tr>\n",
       "      <th>5</th>\n",
       "      <td>Chhattisgarh</td>\n",
       "      <td>9</td>\n",
       "      <td>2</td>\n",
       "      <td>0</td>\n",
       "      <td>2020-04-02</td>\n",
       "    </tr>\n",
       "    <tr>\n",
       "      <th>6</th>\n",
       "      <td>Delhi</td>\n",
       "      <td>152</td>\n",
       "      <td>6</td>\n",
       "      <td>2</td>\n",
       "      <td>2020-04-02</td>\n",
       "    </tr>\n",
       "    <tr>\n",
       "      <th>7</th>\n",
       "      <td>Goa</td>\n",
       "      <td>5</td>\n",
       "      <td>0</td>\n",
       "      <td>0</td>\n",
       "      <td>2020-04-02</td>\n",
       "    </tr>\n",
       "    <tr>\n",
       "      <th>8</th>\n",
       "      <td>Gujarat</td>\n",
       "      <td>82</td>\n",
       "      <td>5</td>\n",
       "      <td>6</td>\n",
       "      <td>2020-04-02</td>\n",
       "    </tr>\n",
       "    <tr>\n",
       "      <th>9</th>\n",
       "      <td>Haryana</td>\n",
       "      <td>43</td>\n",
       "      <td>21</td>\n",
       "      <td>0</td>\n",
       "      <td>2020-04-02</td>\n",
       "    </tr>\n",
       "    <tr>\n",
       "      <th>10</th>\n",
       "      <td>Himachal Pradesh</td>\n",
       "      <td>3</td>\n",
       "      <td>0</td>\n",
       "      <td>1</td>\n",
       "      <td>2020-04-02</td>\n",
       "    </tr>\n",
       "    <tr>\n",
       "      <th>11</th>\n",
       "      <td>Jammu and Kashmir</td>\n",
       "      <td>62</td>\n",
       "      <td>2</td>\n",
       "      <td>2</td>\n",
       "      <td>2020-04-02</td>\n",
       "    </tr>\n",
       "    <tr>\n",
       "      <th>12</th>\n",
       "      <td>Jharkhand</td>\n",
       "      <td>1</td>\n",
       "      <td>0</td>\n",
       "      <td>0</td>\n",
       "      <td>2020-04-02</td>\n",
       "    </tr>\n",
       "    <tr>\n",
       "      <th>13</th>\n",
       "      <td>Karnataka</td>\n",
       "      <td>101</td>\n",
       "      <td>8</td>\n",
       "      <td>3</td>\n",
       "      <td>2020-04-02</td>\n",
       "    </tr>\n",
       "    <tr>\n",
       "      <th>14</th>\n",
       "      <td>Kerala</td>\n",
       "      <td>241</td>\n",
       "      <td>23</td>\n",
       "      <td>2</td>\n",
       "      <td>2020-04-02</td>\n",
       "    </tr>\n",
       "    <tr>\n",
       "      <th>15</th>\n",
       "      <td>Ladakh</td>\n",
       "      <td>13</td>\n",
       "      <td>3</td>\n",
       "      <td>0</td>\n",
       "      <td>2020-04-02</td>\n",
       "    </tr>\n",
       "    <tr>\n",
       "      <th>16</th>\n",
       "      <td>Madhya Pradesh</td>\n",
       "      <td>66</td>\n",
       "      <td>0</td>\n",
       "      <td>3</td>\n",
       "      <td>2020-04-02</td>\n",
       "    </tr>\n",
       "    <tr>\n",
       "      <th>17</th>\n",
       "      <td>Maharashtra</td>\n",
       "      <td>302</td>\n",
       "      <td>39</td>\n",
       "      <td>9</td>\n",
       "      <td>2020-04-02</td>\n",
       "    </tr>\n",
       "    <tr>\n",
       "      <th>18</th>\n",
       "      <td>Manipur</td>\n",
       "      <td>1</td>\n",
       "      <td>0</td>\n",
       "      <td>0</td>\n",
       "      <td>2020-04-02</td>\n",
       "    </tr>\n",
       "    <tr>\n",
       "      <th>19</th>\n",
       "      <td>Mizoram</td>\n",
       "      <td>1</td>\n",
       "      <td>0</td>\n",
       "      <td>0</td>\n",
       "      <td>2020-04-02</td>\n",
       "    </tr>\n",
       "    <tr>\n",
       "      <th>20</th>\n",
       "      <td>Odisha</td>\n",
       "      <td>4</td>\n",
       "      <td>0</td>\n",
       "      <td>0</td>\n",
       "      <td>2020-04-02</td>\n",
       "    </tr>\n",
       "    <tr>\n",
       "      <th>21</th>\n",
       "      <td>Puducherry</td>\n",
       "      <td>3</td>\n",
       "      <td>1</td>\n",
       "      <td>0</td>\n",
       "      <td>2020-04-02</td>\n",
       "    </tr>\n",
       "    <tr>\n",
       "      <th>22</th>\n",
       "      <td>Punjab</td>\n",
       "      <td>42</td>\n",
       "      <td>1</td>\n",
       "      <td>3</td>\n",
       "      <td>2020-04-02</td>\n",
       "    </tr>\n",
       "    <tr>\n",
       "      <th>23</th>\n",
       "      <td>Rajasthan</td>\n",
       "      <td>93</td>\n",
       "      <td>3</td>\n",
       "      <td>0</td>\n",
       "      <td>2020-04-02</td>\n",
       "    </tr>\n",
       "    <tr>\n",
       "      <th>24</th>\n",
       "      <td>Tamil Nadu</td>\n",
       "      <td>234</td>\n",
       "      <td>6</td>\n",
       "      <td>1</td>\n",
       "      <td>2020-04-02</td>\n",
       "    </tr>\n",
       "    <tr>\n",
       "      <th>25</th>\n",
       "      <td>Telengana</td>\n",
       "      <td>96</td>\n",
       "      <td>1</td>\n",
       "      <td>3</td>\n",
       "      <td>2020-04-02</td>\n",
       "    </tr>\n",
       "    <tr>\n",
       "      <th>26</th>\n",
       "      <td>Uttarakhand</td>\n",
       "      <td>7</td>\n",
       "      <td>2</td>\n",
       "      <td>0</td>\n",
       "      <td>2020-04-02</td>\n",
       "    </tr>\n",
       "    <tr>\n",
       "      <th>27</th>\n",
       "      <td>Uttar Pradesh</td>\n",
       "      <td>103</td>\n",
       "      <td>14</td>\n",
       "      <td>2</td>\n",
       "      <td>2020-04-02</td>\n",
       "    </tr>\n",
       "    <tr>\n",
       "      <th>28</th>\n",
       "      <td>West Bengal</td>\n",
       "      <td>37</td>\n",
       "      <td>6</td>\n",
       "      <td>3</td>\n",
       "      <td>2020-04-02</td>\n",
       "    </tr>\n",
       "    <tr>\n",
       "      <th>29</th>\n",
       "      <td>India</td>\n",
       "      <td>1834</td>\n",
       "      <td>144</td>\n",
       "      <td>41</td>\n",
       "      <td>2020-04-02</td>\n",
       "    </tr>\n",
       "  </tbody>\n",
       "</table>\n",
       "</div>"
      ],
      "text/plain": [
       "                       State/UT  Confirmed  Recovered  Deaths report_date\n",
       "0                Andhra Pradesh         83          0       0  2020-04-02\n",
       "1   Andaman and Nicobar Islands         10          1       0  2020-04-02\n",
       "2                         Assam          1          0       0  2020-04-02\n",
       "3                         Bihar         23          0       1  2020-04-02\n",
       "4                    Chandigarh         16          0       0  2020-04-02\n",
       "5                  Chhattisgarh          9          2       0  2020-04-02\n",
       "6                         Delhi        152          6       2  2020-04-02\n",
       "7                           Goa          5          0       0  2020-04-02\n",
       "8                       Gujarat         82          5       6  2020-04-02\n",
       "9                       Haryana         43         21       0  2020-04-02\n",
       "10             Himachal Pradesh          3          0       1  2020-04-02\n",
       "11            Jammu and Kashmir         62          2       2  2020-04-02\n",
       "12                    Jharkhand          1          0       0  2020-04-02\n",
       "13                    Karnataka        101          8       3  2020-04-02\n",
       "14                       Kerala        241         23       2  2020-04-02\n",
       "15                       Ladakh         13          3       0  2020-04-02\n",
       "16               Madhya Pradesh         66          0       3  2020-04-02\n",
       "17                  Maharashtra        302         39       9  2020-04-02\n",
       "18                      Manipur          1          0       0  2020-04-02\n",
       "19                      Mizoram          1          0       0  2020-04-02\n",
       "20                       Odisha          4          0       0  2020-04-02\n",
       "21                   Puducherry          3          1       0  2020-04-02\n",
       "22                       Punjab         42          1       3  2020-04-02\n",
       "23                    Rajasthan         93          3       0  2020-04-02\n",
       "24                   Tamil Nadu        234          6       1  2020-04-02\n",
       "25                    Telengana         96          1       3  2020-04-02\n",
       "26                  Uttarakhand          7          2       0  2020-04-02\n",
       "27                Uttar Pradesh        103         14       2  2020-04-02\n",
       "28                  West Bengal         37          6       3  2020-04-02\n",
       "29                        India       1834        144      41  2020-04-02"
      ]
     },
     "execution_count": 131,
     "metadata": {},
     "output_type": "execute_result"
    }
   ],
   "source": [
    "#df = pd.read_html(WEB_URL, header=0)[1].iloc[:,1:]\n",
    "df = pd.read_html(WEB_URL)[-1].iloc[:,1:] #Read covid-19 india \n",
    "df.columns = ['State/UT', 'Confirmed','Recovered', 'Deaths']\n",
    "df.loc[(df['State/UT'].str.contains(\"Total\")),'State/UT'] = \"India\"\n",
    "if df.Confirmed.dtypes == 'O':\n",
    "    df = df.select_dtypes(include=['object']).apply(lambda x: x.str.replace('#','')).iloc[:-1,:]\n",
    "#     #df = df.select_dtypes(include=['object']).apply(lambda x: x.str.replace('#',''))\n",
    "df['report_date'] = pd.Timestamp.now().normalize()\n",
    "df['report_date'] = pd.to_datetime(df['report_date']).dt.date\n",
    "file_name = datetime.datetime.now().strftime(\"%Y-%m-%d\")\n",
    "df.to_csv(dir_+file_name+'.csv', index=False)\n",
    "df"
   ]
  },
  {
   "cell_type": "code",
   "execution_count": 136,
   "metadata": {},
   "outputs": [
    {
     "data": {
      "text/html": [
       "<div>\n",
       "<style scoped>\n",
       "    .dataframe tbody tr th:only-of-type {\n",
       "        vertical-align: middle;\n",
       "    }\n",
       "\n",
       "    .dataframe tbody tr th {\n",
       "        vertical-align: top;\n",
       "    }\n",
       "\n",
       "    .dataframe thead th {\n",
       "        text-align: right;\n",
       "    }\n",
       "</style>\n",
       "<table border=\"1\" class=\"dataframe\">\n",
       "  <thead>\n",
       "    <tr style=\"text-align: right;\">\n",
       "      <th></th>\n",
       "      <th>State/UT</th>\n",
       "      <th>lat</th>\n",
       "      <th>lon</th>\n",
       "    </tr>\n",
       "  </thead>\n",
       "  <tbody>\n",
       "    <tr>\n",
       "      <th>0</th>\n",
       "      <td>Andhra Pradesh</td>\n",
       "      <td>14.750429</td>\n",
       "      <td>78.570023</td>\n",
       "    </tr>\n",
       "    <tr>\n",
       "      <th>1</th>\n",
       "      <td>Arunachal Pradesh</td>\n",
       "      <td>28.218000</td>\n",
       "      <td>94.727800</td>\n",
       "    </tr>\n",
       "    <tr>\n",
       "      <th>2</th>\n",
       "      <td>Assam</td>\n",
       "      <td>26.200600</td>\n",
       "      <td>92.937600</td>\n",
       "    </tr>\n",
       "    <tr>\n",
       "      <th>3</th>\n",
       "      <td>Bihar</td>\n",
       "      <td>25.785414</td>\n",
       "      <td>87.479973</td>\n",
       "    </tr>\n",
       "    <tr>\n",
       "      <th>4</th>\n",
       "      <td>Chandigarh</td>\n",
       "      <td>30.719997</td>\n",
       "      <td>76.780006</td>\n",
       "    </tr>\n",
       "    <tr>\n",
       "      <th>5</th>\n",
       "      <td>Chhattisgarh</td>\n",
       "      <td>22.090420</td>\n",
       "      <td>82.159988</td>\n",
       "    </tr>\n",
       "    <tr>\n",
       "      <th>6</th>\n",
       "      <td>Delhi</td>\n",
       "      <td>28.669992</td>\n",
       "      <td>77.230003</td>\n",
       "    </tr>\n",
       "    <tr>\n",
       "      <th>7</th>\n",
       "      <td>Gujarat</td>\n",
       "      <td>22.309425</td>\n",
       "      <td>72.136230</td>\n",
       "    </tr>\n",
       "    <tr>\n",
       "      <th>8</th>\n",
       "      <td>Goa</td>\n",
       "      <td>15.299300</td>\n",
       "      <td>74.124000</td>\n",
       "    </tr>\n",
       "    <tr>\n",
       "      <th>9</th>\n",
       "      <td>Haryana</td>\n",
       "      <td>28.450006</td>\n",
       "      <td>77.019989</td>\n",
       "    </tr>\n",
       "    <tr>\n",
       "      <th>10</th>\n",
       "      <td>Himachal Pradesh</td>\n",
       "      <td>31.100025</td>\n",
       "      <td>77.166595</td>\n",
       "    </tr>\n",
       "    <tr>\n",
       "      <th>11</th>\n",
       "      <td>India</td>\n",
       "      <td>21.767900</td>\n",
       "      <td>78.871803</td>\n",
       "    </tr>\n",
       "    <tr>\n",
       "      <th>12</th>\n",
       "      <td>Jammu and Kashmir</td>\n",
       "      <td>34.299961</td>\n",
       "      <td>74.466660</td>\n",
       "    </tr>\n",
       "    <tr>\n",
       "      <th>13</th>\n",
       "      <td>Karnataka</td>\n",
       "      <td>12.570381</td>\n",
       "      <td>76.919998</td>\n",
       "    </tr>\n",
       "    <tr>\n",
       "      <th>14</th>\n",
       "      <td>Kerala</td>\n",
       "      <td>8.900373</td>\n",
       "      <td>76.569992</td>\n",
       "    </tr>\n",
       "    <tr>\n",
       "      <th>15</th>\n",
       "      <td>Ladakh</td>\n",
       "      <td>34.152588</td>\n",
       "      <td>77.577049</td>\n",
       "    </tr>\n",
       "    <tr>\n",
       "      <th>16</th>\n",
       "      <td>Madhya Pradesh</td>\n",
       "      <td>21.300390</td>\n",
       "      <td>76.130020</td>\n",
       "    </tr>\n",
       "    <tr>\n",
       "      <th>17</th>\n",
       "      <td>Maharashtra</td>\n",
       "      <td>19.250233</td>\n",
       "      <td>73.160172</td>\n",
       "    </tr>\n",
       "    <tr>\n",
       "      <th>18</th>\n",
       "      <td>Manipur</td>\n",
       "      <td>24.799971</td>\n",
       "      <td>93.950020</td>\n",
       "    </tr>\n",
       "    <tr>\n",
       "      <th>19</th>\n",
       "      <td>Mizoram</td>\n",
       "      <td>23.710400</td>\n",
       "      <td>92.720016</td>\n",
       "    </tr>\n",
       "    <tr>\n",
       "      <th>20</th>\n",
       "      <td>Odisha</td>\n",
       "      <td>19.820429</td>\n",
       "      <td>85.900017</td>\n",
       "    </tr>\n",
       "    <tr>\n",
       "      <th>21</th>\n",
       "      <td>Puducherry</td>\n",
       "      <td>11.934994</td>\n",
       "      <td>79.830002</td>\n",
       "    </tr>\n",
       "    <tr>\n",
       "      <th>22</th>\n",
       "      <td>Punjab</td>\n",
       "      <td>31.519974</td>\n",
       "      <td>75.980003</td>\n",
       "    </tr>\n",
       "    <tr>\n",
       "      <th>23</th>\n",
       "      <td>Rajasthan</td>\n",
       "      <td>26.449999</td>\n",
       "      <td>74.639984</td>\n",
       "    </tr>\n",
       "    <tr>\n",
       "      <th>24</th>\n",
       "      <td>Tamil Nadu</td>\n",
       "      <td>12.920385</td>\n",
       "      <td>79.150040</td>\n",
       "    </tr>\n",
       "    <tr>\n",
       "      <th>25</th>\n",
       "      <td>Telengana</td>\n",
       "      <td>17.123184</td>\n",
       "      <td>79.208824</td>\n",
       "    </tr>\n",
       "    <tr>\n",
       "      <th>26</th>\n",
       "      <td>Uttar Pradesh</td>\n",
       "      <td>27.599981</td>\n",
       "      <td>78.050003</td>\n",
       "    </tr>\n",
       "    <tr>\n",
       "      <th>27</th>\n",
       "      <td>Uttarakhand</td>\n",
       "      <td>30.316496</td>\n",
       "      <td>78.032188</td>\n",
       "    </tr>\n",
       "    <tr>\n",
       "      <th>28</th>\n",
       "      <td>West Bengal</td>\n",
       "      <td>22.580391</td>\n",
       "      <td>88.329948</td>\n",
       "    </tr>\n",
       "  </tbody>\n",
       "</table>\n",
       "</div>"
      ],
      "text/plain": [
       "             State/UT        lat        lon\n",
       "0      Andhra Pradesh  14.750429  78.570023\n",
       "1   Arunachal Pradesh  28.218000  94.727800\n",
       "2               Assam  26.200600  92.937600\n",
       "3               Bihar  25.785414  87.479973\n",
       "4          Chandigarh  30.719997  76.780006\n",
       "5        Chhattisgarh  22.090420  82.159988\n",
       "6               Delhi  28.669992  77.230003\n",
       "7             Gujarat  22.309425  72.136230\n",
       "8                 Goa  15.299300  74.124000\n",
       "9             Haryana  28.450006  77.019989\n",
       "10   Himachal Pradesh  31.100025  77.166595\n",
       "11              India  21.767900  78.871803\n",
       "12  Jammu and Kashmir  34.299961  74.466660\n",
       "13          Karnataka  12.570381  76.919998\n",
       "14             Kerala   8.900373  76.569992\n",
       "15             Ladakh  34.152588  77.577049\n",
       "16     Madhya Pradesh  21.300390  76.130020\n",
       "17        Maharashtra  19.250233  73.160172\n",
       "18            Manipur  24.799971  93.950020\n",
       "19            Mizoram  23.710400  92.720016\n",
       "20             Odisha  19.820429  85.900017\n",
       "21         Puducherry  11.934994  79.830002\n",
       "22             Punjab  31.519974  75.980003\n",
       "23          Rajasthan  26.449999  74.639984\n",
       "24         Tamil Nadu  12.920385  79.150040\n",
       "25          Telengana  17.123184  79.208824\n",
       "26      Uttar Pradesh  27.599981  78.050003\n",
       "27        Uttarakhand  30.316496  78.032188\n",
       "28        West Bengal  22.580391  88.329948"
      ]
     },
     "execution_count": 136,
     "metadata": {},
     "output_type": "execute_result"
    }
   ],
   "source": [
    "ind_state_geo = pd.read_csv(GEO_DATA, index_col=0).reset_index()\n",
    "ind_state_geo"
   ]
  },
  {
   "cell_type": "code",
   "execution_count": 139,
   "metadata": {},
   "outputs": [],
   "source": [
    "files = sorted([file for file in os.listdir(dir_)])[2:]"
   ]
  },
  {
   "cell_type": "code",
   "execution_count": 152,
   "metadata": {},
   "outputs": [
    {
     "data": {
      "text/plain": [
       "['2020-03-27.csv',\n",
       " '2020-03-28.csv',\n",
       " '2020-03-29.csv',\n",
       " '2020-03-30.csv',\n",
       " '2020-03-31.csv',\n",
       " '2020-04-01.csv',\n",
       " '2020-04-02.csv',\n",
       " 'all_feb_mar26.csv']"
      ]
     },
     "execution_count": 152,
     "metadata": {},
     "output_type": "execute_result"
    }
   ],
   "source": [
    "sorted([file for file in os.listdir(dir_)])[2:]"
   ]
  },
  {
   "cell_type": "code",
   "execution_count": 153,
   "metadata": {},
   "outputs": [],
   "source": [
    "reports_df = pd.concat((pd.read_csv(dir_+ file) for file in files),ignore_index=False) "
   ]
  },
  {
   "cell_type": "code",
   "execution_count": 154,
   "metadata": {},
   "outputs": [
    {
     "data": {
      "text/plain": [
       "(703, 6)"
      ]
     },
     "execution_count": 154,
     "metadata": {},
     "output_type": "execute_result"
    }
   ],
   "source": [
    "reports_df.shape"
   ]
  },
  {
   "cell_type": "code",
   "execution_count": null,
   "metadata": {},
   "outputs": [],
   "source": []
  }
 ],
 "metadata": {
  "kernelspec": {
   "display_name": "Python 3.7.5 64-bit ('anaconda3': virtualenv)",
   "language": "python",
   "name": "python37564bitanaconda3virtualenvb1797ad74a8b472fb1a6db4c25d82c85"
  },
  "language_info": {
   "codemirror_mode": {
    "name": "ipython",
    "version": 3
   },
   "file_extension": ".py",
   "mimetype": "text/x-python",
   "name": "python",
   "nbconvert_exporter": "python",
   "pygments_lexer": "ipython3",
   "version": "3.7.5"
  }
 },
 "nbformat": 4,
 "nbformat_minor": 4
}