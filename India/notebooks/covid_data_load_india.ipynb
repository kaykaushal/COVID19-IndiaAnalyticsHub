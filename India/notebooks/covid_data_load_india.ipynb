{
 "cells": [
  {
   "cell_type": "code",
   "execution_count": 1,
   "metadata": {
    "ExecuteTime": {
     "end_time": "2020-03-27T05:51:03.757944Z",
     "start_time": "2020-03-27T05:51:02.530604Z"
    }
   },
   "outputs": [],
   "source": [
    "import os, glob\n",
    "import datetime\n",
    "from requests import get\n",
    "import pandas as pd\n",
    "import numpy as np\n",
    "from bs4 import BeautifulSoup"
   ]
  },
  {
   "cell_type": "code",
   "execution_count": 2,
   "metadata": {
    "ExecuteTime": {
     "end_time": "2020-03-27T05:51:04.015756Z",
     "start_time": "2020-03-27T05:51:03.760249Z"
    }
   },
   "outputs": [],
   "source": [
    "## COLLECT DATA FROM MINISTERY OF HEALTH\n",
    "\n",
    "web_url = \"https://www.mohfw.gov.in\"\n",
    "file_store_loc = \"/Volumes/Lab/PROJECTS/COVID-19-AnalyticsHub/India/data/mhw_ind_covid_daily_reports/\"\n",
    "def ind_mh_web_scrap(url, data_dir):\n",
    "    #df = pd.read_html(url, header=0)[1].iloc[:,1:]\n",
    "    df = pd.read_html(url)[7].iloc[:-1,1:] #Read covid-19 india \n",
    "    df.columns = ['State/UT', 'Confirmed_IN','Confirmed_FN','Recovered', 'Death']\n",
    "    df.loc[(df['State/UT'].str.contains(\"Total\")),'State/UT'] = \"India\"\n",
    "    df = df.select_dtypes(include=['object']).apply(lambda x: x.str.replace('#',''))\n",
    "    df['report_date'] = pd.Timestamp.now().normalize()\n",
    "    df['report_date'] = pd.to_datetime(df['report_date']).dt.date\n",
    "    df['State/UT']\n",
    "    file_name = datetime.datetime.now().strftime(\"%Y-%m-%d\")\n",
    "    df.to_csv(data_dir+file_name+'.csv', index=False)\n",
    "    return df\n",
    "\n",
    "    \n",
    "if __name__ == \"__main__\":\n",
    "    daily_report = ind_mh_web_scrap(web_url,file_store_loc)"
   ]
  },
  {
   "cell_type": "code",
   "execution_count": 25,
   "metadata": {
    "ExecuteTime": {
     "end_time": "2020-03-27T06:11:39.050815Z",
     "start_time": "2020-03-27T06:11:39.041520Z"
    }
   },
   "outputs": [],
   "source": [
    "def load_reports(file_loc):\n",
    "    geo_loc = '/Volumes/Lab/PROJECTS/COVID-19-AnalyticsHub/India/data/state_geo_table.csv'\n",
    "    ind_state_geo = pd.read_csv(geo_loc, index_col=0).reset_index()\n",
    "    files = sorted([file for file in os.listdir(file_store_loc)])[2:]\n",
    "    reports_df = pd.concat((pd.read_csv(file_loc+ file) for file in files),ignore_index=False) \n",
    "    reports_df['report_date'] = pd.to_datetime(reports_df['report_date']).dt.date\n",
    "    reports_df['State/UT'] = reports_df['State/UT'].str.replace('Orissa', 'Odisha')\n",
    "    reports_df['Confirmed_ALL'] = [x+y for x,y in zip(reports_df.Confirmed_IN, reports_df.Confirmed_FN)]\n",
    "    reports_df = reports_df.merge(ind_state_geo, on='State/UT', how = 'left')\n",
    "    reports_df = reports_df.sort_values(by='Confirmed_ALL',ascending=False).groupby(['report_date', 'State/UT']).first().reset_index()\n",
    "    reports_df_yest = reports_df.copy()\n",
    "    reports_df_yest['report_date'] = pd.to_datetime(reports_df_yest['report_date']).dt.date + pd.to_timedelta(np.ceil(1), unit=\"D\")\n",
    "    return reports_df, reports_df_yest"
   ]
  },
  {
   "cell_type": "code",
   "execution_count": 26,
   "metadata": {
    "ExecuteTime": {
     "end_time": "2020-03-27T06:11:40.784980Z",
     "start_time": "2020-03-27T06:11:40.750744Z"
    }
   },
   "outputs": [],
   "source": [
    "df1, df2 = load_reports(file_store_loc)"
   ]
  },
  {
   "cell_type": "code",
   "execution_count": 28,
   "metadata": {
    "ExecuteTime": {
     "end_time": "2020-03-27T06:11:54.855106Z",
     "start_time": "2020-03-27T06:11:54.845628Z"
    }
   },
   "outputs": [
    {
     "name": "stdout",
     "output_type": "stream",
     "text": [
      "<class 'pandas.core.frame.DataFrame'>\n",
      "RangeIndex: 218 entries, 0 to 217\n",
      "Data columns (total 9 columns):\n",
      " #   Column         Non-Null Count  Dtype  \n",
      "---  ------         --------------  -----  \n",
      " 0   report_date    218 non-null    object \n",
      " 1   State/UT       218 non-null    object \n",
      " 2   Confirmed_IN   218 non-null    int64  \n",
      " 3   Confirmed_FN   218 non-null    int64  \n",
      " 4   Recovered      218 non-null    int64  \n",
      " 5   Death          218 non-null    int64  \n",
      " 6   Confirmed_ALL  218 non-null    int64  \n",
      " 7   lat            216 non-null    float64\n",
      " 8   lon            216 non-null    float64\n",
      "dtypes: float64(2), int64(5), object(2)\n",
      "memory usage: 15.5+ KB\n"
     ]
    }
   ],
   "source": []
  },
  {
   "cell_type": "code",
   "execution_count": 3,
   "metadata": {
    "ExecuteTime": {
     "end_time": "2020-03-27T05:51:04.028174Z",
     "start_time": "2020-03-27T05:51:04.017976Z"
    },
    "scrolled": true
   },
   "outputs": [
    {
     "data": {
      "text/plain": [
       "array(['Andaman and Nicobar Islands', 'Andhra Pradesh', 'Bihar',\n",
       "       'Chandigarh', 'Chhattisgarh', 'Delhi', 'Goa', 'Gujarat', 'Haryana',\n",
       "       'Himachal Pradesh', 'Jammu and Kashmir', 'Karnataka', 'Kerala',\n",
       "       'Ladakh', 'Madhya Pradesh', 'Maharashtra', 'Manipur', 'Mizoram',\n",
       "       'Odisha', 'Puducherry', 'Punjab', 'Rajasthan', 'Tamil Nadu',\n",
       "       'Telengana', 'Uttarakhand', 'Uttar Pradesh', 'West Bengal',\n",
       "       'India'], dtype=object)"
      ]
     },
     "execution_count": 3,
     "metadata": {},
     "output_type": "execute_result"
    }
   ],
   "source": [
    "daily_report['State/UT'].unique()"
   ]
  },
  {
   "cell_type": "code",
   "execution_count": 4,
   "metadata": {
    "ExecuteTime": {
     "end_time": "2020-03-27T05:51:04.038948Z",
     "start_time": "2020-03-27T05:51:04.030349Z"
    }
   },
   "outputs": [],
   "source": [
    "#Static data India state loading\n",
    "file_loc = '/Volumes/Lab/PROJECTS/COVID-19-AnalyticsHub/India/data/state_geo_table.csv'\n",
    "ind_state_geo = pd.read_csv(file_loc, index_col=0).reset_index()"
   ]
  },
  {
   "cell_type": "code",
   "execution_count": 5,
   "metadata": {
    "ExecuteTime": {
     "end_time": "2020-03-27T05:51:04.069874Z",
     "start_time": "2020-03-27T05:51:04.040761Z"
    }
   },
   "outputs": [],
   "source": [
    "files = sorted([file for file in os.listdir(file_store_loc)])[2:]\n",
    "reports_df = pd.concat((pd.read_csv(file_store_loc+ file) for file in files),ignore_index=False) \n",
    "reports_df['report_date'] = pd.to_datetime(reports_df['report_date']).dt.date\n",
    "reports_df['State/UT'] = reports_df['State/UT'].str.replace('Orissa', 'Odisha')\n",
    "reports_df['Confirmed_ALL'] = [x+y for x,y in zip(reports_df.Confirmed_IN, reports_df.Confirmed_FN)]"
   ]
  },
  {
   "cell_type": "code",
   "execution_count": 6,
   "metadata": {
    "ExecuteTime": {
     "end_time": "2020-03-27T05:51:04.086457Z",
     "start_time": "2020-03-27T05:51:04.073244Z"
    }
   },
   "outputs": [
    {
     "data": {
      "text/html": [
       "<div>\n",
       "<style scoped>\n",
       "    .dataframe tbody tr th:only-of-type {\n",
       "        vertical-align: middle;\n",
       "    }\n",
       "\n",
       "    .dataframe tbody tr th {\n",
       "        vertical-align: top;\n",
       "    }\n",
       "\n",
       "    .dataframe thead th {\n",
       "        text-align: right;\n",
       "    }\n",
       "</style>\n",
       "<table border=\"1\" class=\"dataframe\">\n",
       "  <thead>\n",
       "    <tr style=\"text-align: right;\">\n",
       "      <th></th>\n",
       "      <th>State/UT</th>\n",
       "      <th>Confirmed_IN</th>\n",
       "      <th>Confirmed_FN</th>\n",
       "      <th>Recovered</th>\n",
       "      <th>Death</th>\n",
       "      <th>report_date</th>\n",
       "      <th>Confirmed_ALL</th>\n",
       "    </tr>\n",
       "  </thead>\n",
       "  <tbody>\n",
       "    <tr>\n",
       "      <th>0</th>\n",
       "      <td>Andaman and Nicobar Islands</td>\n",
       "      <td>1</td>\n",
       "      <td>0</td>\n",
       "      <td>0</td>\n",
       "      <td>0</td>\n",
       "      <td>2020-03-26</td>\n",
       "      <td>1</td>\n",
       "    </tr>\n",
       "    <tr>\n",
       "      <th>1</th>\n",
       "      <td>Andhra Pradesh</td>\n",
       "      <td>11</td>\n",
       "      <td>0</td>\n",
       "      <td>1</td>\n",
       "      <td>0</td>\n",
       "      <td>2020-03-26</td>\n",
       "      <td>11</td>\n",
       "    </tr>\n",
       "    <tr>\n",
       "      <th>2</th>\n",
       "      <td>Bihar</td>\n",
       "      <td>6</td>\n",
       "      <td>0</td>\n",
       "      <td>0</td>\n",
       "      <td>1</td>\n",
       "      <td>2020-03-26</td>\n",
       "      <td>6</td>\n",
       "    </tr>\n",
       "    <tr>\n",
       "      <th>3</th>\n",
       "      <td>Chandigarh</td>\n",
       "      <td>7</td>\n",
       "      <td>0</td>\n",
       "      <td>0</td>\n",
       "      <td>0</td>\n",
       "      <td>2020-03-26</td>\n",
       "      <td>7</td>\n",
       "    </tr>\n",
       "    <tr>\n",
       "      <th>4</th>\n",
       "      <td>Chhattisgarh</td>\n",
       "      <td>6</td>\n",
       "      <td>0</td>\n",
       "      <td>0</td>\n",
       "      <td>0</td>\n",
       "      <td>2020-03-26</td>\n",
       "      <td>6</td>\n",
       "    </tr>\n",
       "  </tbody>\n",
       "</table>\n",
       "</div>"
      ],
      "text/plain": [
       "                      State/UT  Confirmed_IN  Confirmed_FN  Recovered  Death  \\\n",
       "0  Andaman and Nicobar Islands             1             0          0      0   \n",
       "1               Andhra Pradesh            11             0          1      0   \n",
       "2                        Bihar             6             0          0      1   \n",
       "3                   Chandigarh             7             0          0      0   \n",
       "4                 Chhattisgarh             6             0          0      0   \n",
       "\n",
       "  report_date  Confirmed_ALL  \n",
       "0  2020-03-26              1  \n",
       "1  2020-03-26             11  \n",
       "2  2020-03-26              6  \n",
       "3  2020-03-26              7  \n",
       "4  2020-03-26              6  "
      ]
     },
     "execution_count": 6,
     "metadata": {},
     "output_type": "execute_result"
    }
   ],
   "source": [
    "reports_df.head()"
   ]
  },
  {
   "cell_type": "code",
   "execution_count": null,
   "metadata": {
    "ExecuteTime": {
     "end_time": "2020-03-26T07:33:59.596656Z",
     "start_time": "2020-03-26T07:33:59.587494Z"
    }
   },
   "outputs": [],
   "source": []
  },
  {
   "cell_type": "code",
   "execution_count": null,
   "metadata": {
    "ExecuteTime": {
     "end_time": "2020-03-26T07:41:35.344834Z",
     "start_time": "2020-03-26T07:41:35.337435Z"
    }
   },
   "outputs": [],
   "source": []
  },
  {
   "cell_type": "code",
   "execution_count": 7,
   "metadata": {
    "ExecuteTime": {
     "end_time": "2020-03-27T05:51:04.124120Z",
     "start_time": "2020-03-27T05:51:04.088977Z"
    }
   },
   "outputs": [],
   "source": [
    "reports_df = reports_df.merge(ind_state_geo, on='State/UT', how = 'left')\n",
    "reports_df = reports_df.sort_values(by='Confirmed_ALL',ascending=False).groupby(\n",
    "    ['report_date', 'State/UT']).first().reset_index()\n",
    "reports_df_yest = reports_df.copy()\n",
    "reports_df_yest['report_date'] = pd.to_datetime(reports_df_yest['report_date']).dt.date \\\n",
    "                                + pd.to_timedelta(np.ceil(1), unit=\"D\")\n"
   ]
  },
  {
   "cell_type": "code",
   "execution_count": null,
   "metadata": {
    "ExecuteTime": {
     "end_time": "2020-03-26T08:09:08.178272Z",
     "start_time": "2020-03-26T08:09:08.162951Z"
    }
   },
   "outputs": [],
   "source": []
  },
  {
   "cell_type": "code",
   "execution_count": 8,
   "metadata": {
    "ExecuteTime": {
     "end_time": "2020-03-27T05:51:04.135289Z",
     "start_time": "2020-03-27T05:51:04.126047Z"
    }
   },
   "outputs": [],
   "source": [
    "final_df = reports_df.merge(reports_df_yest.iloc[:,:-2], on=['report_date','State/UT'],\n",
    "                   suffixes=('', '_yest'), how='left')\n",
    "final_df.fillna(0, inplace=True)"
   ]
  },
  {
   "cell_type": "code",
   "execution_count": 9,
   "metadata": {
    "ExecuteTime": {
     "end_time": "2020-03-27T05:51:04.146311Z",
     "start_time": "2020-03-27T05:51:04.136725Z"
    },
    "scrolled": false
   },
   "outputs": [
    {
     "name": "stdout",
     "output_type": "stream",
     "text": [
      "<class 'pandas.core.frame.DataFrame'>\n",
      "Int64Index: 218 entries, 0 to 217\n",
      "Data columns (total 14 columns):\n",
      " #   Column              Non-Null Count  Dtype  \n",
      "---  ------              --------------  -----  \n",
      " 0   report_date         218 non-null    object \n",
      " 1   State/UT            218 non-null    object \n",
      " 2   Confirmed_IN        218 non-null    int64  \n",
      " 3   Confirmed_FN        218 non-null    int64  \n",
      " 4   Recovered           218 non-null    int64  \n",
      " 5   Death               218 non-null    int64  \n",
      " 6   Confirmed_ALL       218 non-null    int64  \n",
      " 7   lat                 218 non-null    float64\n",
      " 8   lon                 218 non-null    float64\n",
      " 9   Confirmed_IN_yest   218 non-null    float64\n",
      " 10  Confirmed_FN_yest   218 non-null    float64\n",
      " 11  Recovered_yest      218 non-null    float64\n",
      " 12  Death_yest          218 non-null    float64\n",
      " 13  Confirmed_ALL_yest  218 non-null    float64\n",
      "dtypes: float64(7), int64(5), object(2)\n",
      "memory usage: 25.5+ KB\n"
     ]
    }
   ],
   "source": [
    "final_df.info()"
   ]
  },
  {
   "cell_type": "code",
   "execution_count": 10,
   "metadata": {
    "ExecuteTime": {
     "end_time": "2020-03-27T05:51:04.158220Z",
     "start_time": "2020-03-27T05:51:04.148550Z"
    }
   },
   "outputs": [],
   "source": [
    "final_df['new_cases'] = final_df.Confirmed_ALL - final_df.Confirmed_ALL_yest\n",
    "final_df['new_Deaths'] = final_df.Death - final_df.Death_yest\n",
    "final_df['new_Recovd'] = final_df.Recovered - final_df.Recovered_yest\n",
    "final_df['report_date'] = pd.to_datetime(final_df['report_date']).dt.date"
   ]
  },
  {
   "cell_type": "code",
   "execution_count": 11,
   "metadata": {
    "ExecuteTime": {
     "end_time": "2020-03-27T05:51:04.170257Z",
     "start_time": "2020-03-27T05:51:04.159973Z"
    },
    "scrolled": true
   },
   "outputs": [
    {
     "name": "stdout",
     "output_type": "stream",
     "text": [
      "<class 'pandas.core.frame.DataFrame'>\n",
      "Int64Index: 218 entries, 0 to 217\n",
      "Data columns (total 17 columns):\n",
      " #   Column              Non-Null Count  Dtype  \n",
      "---  ------              --------------  -----  \n",
      " 0   report_date         218 non-null    object \n",
      " 1   State/UT            218 non-null    object \n",
      " 2   Confirmed_IN        218 non-null    int64  \n",
      " 3   Confirmed_FN        218 non-null    int64  \n",
      " 4   Recovered           218 non-null    int64  \n",
      " 5   Death               218 non-null    int64  \n",
      " 6   Confirmed_ALL       218 non-null    int64  \n",
      " 7   lat                 218 non-null    float64\n",
      " 8   lon                 218 non-null    float64\n",
      " 9   Confirmed_IN_yest   218 non-null    float64\n",
      " 10  Confirmed_FN_yest   218 non-null    float64\n",
      " 11  Recovered_yest      218 non-null    float64\n",
      " 12  Death_yest          218 non-null    float64\n",
      " 13  Confirmed_ALL_yest  218 non-null    float64\n",
      " 14  new_cases           218 non-null    float64\n",
      " 15  new_Deaths          218 non-null    float64\n",
      " 16  new_Recovd          218 non-null    float64\n",
      "dtypes: float64(10), int64(5), object(2)\n",
      "memory usage: 30.7+ KB\n"
     ]
    }
   ],
   "source": [
    "final_df.info()"
   ]
  },
  {
   "cell_type": "code",
   "execution_count": 12,
   "metadata": {
    "ExecuteTime": {
     "end_time": "2020-03-27T05:51:04.189960Z",
     "start_time": "2020-03-27T05:51:04.172248Z"
    }
   },
   "outputs": [
    {
     "data": {
      "text/html": [
       "<div>\n",
       "<style scoped>\n",
       "    .dataframe tbody tr th:only-of-type {\n",
       "        vertical-align: middle;\n",
       "    }\n",
       "\n",
       "    .dataframe tbody tr th {\n",
       "        vertical-align: top;\n",
       "    }\n",
       "\n",
       "    .dataframe thead th {\n",
       "        text-align: right;\n",
       "    }\n",
       "</style>\n",
       "<table border=\"1\" class=\"dataframe\">\n",
       "  <thead>\n",
       "    <tr style=\"text-align: right;\">\n",
       "      <th></th>\n",
       "      <th>report_date</th>\n",
       "      <th>State/UT</th>\n",
       "      <th>Confirmed_IN</th>\n",
       "      <th>Confirmed_FN</th>\n",
       "      <th>Recovered</th>\n",
       "      <th>Death</th>\n",
       "      <th>Confirmed_ALL</th>\n",
       "      <th>lat</th>\n",
       "      <th>lon</th>\n",
       "      <th>Confirmed_IN_yest</th>\n",
       "      <th>Confirmed_FN_yest</th>\n",
       "      <th>Recovered_yest</th>\n",
       "      <th>Death_yest</th>\n",
       "      <th>Confirmed_ALL_yest</th>\n",
       "      <th>new_cases</th>\n",
       "      <th>new_Deaths</th>\n",
       "      <th>new_Recovd</th>\n",
       "    </tr>\n",
       "  </thead>\n",
       "  <tbody>\n",
       "    <tr>\n",
       "      <th>213</th>\n",
       "      <td>2020-03-27</td>\n",
       "      <td>Tamil Nadu</td>\n",
       "      <td>23</td>\n",
       "      <td>6</td>\n",
       "      <td>1</td>\n",
       "      <td>1</td>\n",
       "      <td>29</td>\n",
       "      <td>12.920385</td>\n",
       "      <td>79.150040</td>\n",
       "      <td>20.0</td>\n",
       "      <td>6.0</td>\n",
       "      <td>1.0</td>\n",
       "      <td>1.0</td>\n",
       "      <td>26.0</td>\n",
       "      <td>3.0</td>\n",
       "      <td>0.0</td>\n",
       "      <td>0.0</td>\n",
       "    </tr>\n",
       "    <tr>\n",
       "      <th>214</th>\n",
       "      <td>2020-03-27</td>\n",
       "      <td>Telengana</td>\n",
       "      <td>35</td>\n",
       "      <td>10</td>\n",
       "      <td>1</td>\n",
       "      <td>0</td>\n",
       "      <td>45</td>\n",
       "      <td>17.123184</td>\n",
       "      <td>79.208824</td>\n",
       "      <td>34.0</td>\n",
       "      <td>10.0</td>\n",
       "      <td>1.0</td>\n",
       "      <td>0.0</td>\n",
       "      <td>44.0</td>\n",
       "      <td>1.0</td>\n",
       "      <td>0.0</td>\n",
       "      <td>0.0</td>\n",
       "    </tr>\n",
       "    <tr>\n",
       "      <th>215</th>\n",
       "      <td>2020-03-27</td>\n",
       "      <td>Uttar Pradesh</td>\n",
       "      <td>40</td>\n",
       "      <td>1</td>\n",
       "      <td>11</td>\n",
       "      <td>0</td>\n",
       "      <td>41</td>\n",
       "      <td>27.599981</td>\n",
       "      <td>78.050003</td>\n",
       "      <td>40.0</td>\n",
       "      <td>1.0</td>\n",
       "      <td>11.0</td>\n",
       "      <td>0.0</td>\n",
       "      <td>41.0</td>\n",
       "      <td>0.0</td>\n",
       "      <td>0.0</td>\n",
       "      <td>0.0</td>\n",
       "    </tr>\n",
       "    <tr>\n",
       "      <th>216</th>\n",
       "      <td>2020-03-27</td>\n",
       "      <td>Uttarakhand</td>\n",
       "      <td>4</td>\n",
       "      <td>1</td>\n",
       "      <td>0</td>\n",
       "      <td>0</td>\n",
       "      <td>5</td>\n",
       "      <td>30.316496</td>\n",
       "      <td>78.032188</td>\n",
       "      <td>4.0</td>\n",
       "      <td>1.0</td>\n",
       "      <td>0.0</td>\n",
       "      <td>0.0</td>\n",
       "      <td>5.0</td>\n",
       "      <td>0.0</td>\n",
       "      <td>0.0</td>\n",
       "      <td>0.0</td>\n",
       "    </tr>\n",
       "    <tr>\n",
       "      <th>217</th>\n",
       "      <td>2020-03-27</td>\n",
       "      <td>West Bengal</td>\n",
       "      <td>10</td>\n",
       "      <td>0</td>\n",
       "      <td>0</td>\n",
       "      <td>1</td>\n",
       "      <td>10</td>\n",
       "      <td>22.580391</td>\n",
       "      <td>88.329948</td>\n",
       "      <td>10.0</td>\n",
       "      <td>0.0</td>\n",
       "      <td>0.0</td>\n",
       "      <td>1.0</td>\n",
       "      <td>10.0</td>\n",
       "      <td>0.0</td>\n",
       "      <td>0.0</td>\n",
       "      <td>0.0</td>\n",
       "    </tr>\n",
       "  </tbody>\n",
       "</table>\n",
       "</div>"
      ],
      "text/plain": [
       "    report_date       State/UT  Confirmed_IN  Confirmed_FN  Recovered  Death  \\\n",
       "213  2020-03-27     Tamil Nadu            23             6          1      1   \n",
       "214  2020-03-27      Telengana            35            10          1      0   \n",
       "215  2020-03-27  Uttar Pradesh            40             1         11      0   \n",
       "216  2020-03-27    Uttarakhand             4             1          0      0   \n",
       "217  2020-03-27    West Bengal            10             0          0      1   \n",
       "\n",
       "     Confirmed_ALL        lat        lon  Confirmed_IN_yest  \\\n",
       "213             29  12.920385  79.150040               20.0   \n",
       "214             45  17.123184  79.208824               34.0   \n",
       "215             41  27.599981  78.050003               40.0   \n",
       "216              5  30.316496  78.032188                4.0   \n",
       "217             10  22.580391  88.329948               10.0   \n",
       "\n",
       "     Confirmed_FN_yest  Recovered_yest  Death_yest  Confirmed_ALL_yest  \\\n",
       "213                6.0             1.0         1.0                26.0   \n",
       "214               10.0             1.0         0.0                44.0   \n",
       "215                1.0            11.0         0.0                41.0   \n",
       "216                1.0             0.0         0.0                 5.0   \n",
       "217                0.0             0.0         1.0                10.0   \n",
       "\n",
       "     new_cases  new_Deaths  new_Recovd  \n",
       "213        3.0         0.0         0.0  \n",
       "214        1.0         0.0         0.0  \n",
       "215        0.0         0.0         0.0  \n",
       "216        0.0         0.0         0.0  \n",
       "217        0.0         0.0         0.0  "
      ]
     },
     "execution_count": 12,
     "metadata": {},
     "output_type": "execute_result"
    }
   ],
   "source": [
    "final_df.tail()"
   ]
  },
  {
   "cell_type": "code",
   "execution_count": 13,
   "metadata": {
    "ExecuteTime": {
     "end_time": "2020-03-27T05:51:04.223643Z",
     "start_time": "2020-03-27T05:51:04.192227Z"
    }
   },
   "outputs": [],
   "source": [
    "from elasticsearch import Elasticsearch\n",
    "from elasticsearch.helpers import bulk"
   ]
  },
  {
   "cell_type": "code",
   "execution_count": 14,
   "metadata": {
    "ExecuteTime": {
     "end_time": "2020-03-27T05:51:04.931341Z",
     "start_time": "2020-03-27T05:51:04.225534Z"
    }
   },
   "outputs": [],
   "source": [
    "es = Elasticsearch(['https://a149be5c55774db58b9b12c4741d5e95.asia-south1.gcp.elastic-cloud.com:9243'], \n",
    "                    http_auth=('elastic', 'hftyQ1VbGu9JJnbIFiEvDW0R'), timeout = 3000)\n",
    "# delete index if exists\n",
    "if es.indices.exists('india-covid19-db01'):\n",
    "    es.indices.delete(index='india-covid19-db01')\n",
    "\n",
    "settings = {\n",
    "    \"settings\": {\n",
    "        \"number_of_shards\": 1,\n",
    "        \"number_of_replicas\": 0\n",
    "  },\n",
    "  \"mappings\": {\n",
    "    \"properties\": {\n",
    "      \"location\": {\n",
    "        \"type\": \"geo_point\"\n",
    "      }\n",
    "    }\n",
    "  }\n",
    "}"
   ]
  },
  {
   "cell_type": "code",
   "execution_count": 15,
   "metadata": {
    "ExecuteTime": {
     "end_time": "2020-03-27T05:51:05.282115Z",
     "start_time": "2020-03-27T05:51:04.938124Z"
    }
   },
   "outputs": [
    {
     "data": {
      "text/plain": [
       "(218, [])"
      ]
     },
     "execution_count": 15,
     "metadata": {},
     "output_type": "execute_result"
    }
   ],
   "source": [
    "es.indices.create(index='india-covid19-db01', ignore=400, body=settings)\n",
    "documents = final_df.to_dict(orient='records')\n",
    "for i in range(0, len(documents)):\n",
    "    documents[i].update({'location': {'lat':documents[i]['lat'], 'lon': documents[i]['lon']}})\n",
    "bulk(es, documents, index = 'india-covid19-db01', raise_on_error = True)"
   ]
  },
  {
   "cell_type": "code",
   "execution_count": null,
   "metadata": {},
   "outputs": [],
   "source": []
  },
  {
   "cell_type": "code",
   "execution_count": null,
   "metadata": {},
   "outputs": [],
   "source": []
  }
 ],
 "metadata": {
  "kernelspec": {
   "display_name": "Python 3.7.5 64-bit ('anaconda3': virtualenv)",
   "language": "python",
   "name": "python37564bitanaconda3virtualenvb1797ad74a8b472fb1a6db4c25d82c85"
  },
  "language_info": {
   "codemirror_mode": {
    "name": "ipython",
    "version": 3
   },
   "file_extension": ".py",
   "mimetype": "text/x-python",
   "name": "python",
   "nbconvert_exporter": "python",
   "pygments_lexer": "ipython3",
   "version": "3.7.5"
  }
 },
 "nbformat": 4,
 "nbformat_minor": 4
}
