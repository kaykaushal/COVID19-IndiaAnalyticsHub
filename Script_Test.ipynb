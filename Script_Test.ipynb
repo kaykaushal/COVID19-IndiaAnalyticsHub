{
 "cells": [
  {
   "cell_type": "code",
   "execution_count": 26,
   "metadata": {
    "ExecuteTime": {
     "end_time": "2020-04-03T04:59:37.644797Z",
     "start_time": "2020-04-03T04:59:36.582745Z"
    }
   },
   "outputs": [],
   "source": [
    "import pandas as pd\n",
    "DIR =\"/Volumes/Lab/covid19-AnalyticsHbub/India/data/\""
   ]
  },
  {
   "cell_type": "code",
   "execution_count": 27,
   "metadata": {
    "ExecuteTime": {
     "end_time": "2020-04-03T05:00:21.843775Z",
     "start_time": "2020-04-03T05:00:18.901100Z"
    }
   },
   "outputs": [],
   "source": [
    "#df1 = tb.read_pdf('https://www.mohfw.gov.in/pdf/DistrictWiseList324.pdf', multiple_tables=True, pages='all',output_format='dataframe')[0]"
   ]
  },
  {
   "cell_type": "code",
   "execution_count": 28,
   "metadata": {
    "ExecuteTime": {
     "end_time": "2020-04-03T05:01:12.749651Z",
     "start_time": "2020-04-03T05:01:12.737867Z"
    }
   },
   "outputs": [],
   "source": [
    "icmr_df = pd.read_csv(DIR+'icmr_test_india.csv')\n",
    "#icmr_df['date'] = pd.to_datetime(icmr_df['date']).dt.date"
   ]
  },
  {
   "cell_type": "code",
   "execution_count": 39,
   "metadata": {},
   "outputs": [
    {
     "data": {
      "text/html": [
       "<div>\n",
       "<style scoped>\n",
       "    .dataframe tbody tr th:only-of-type {\n",
       "        vertical-align: middle;\n",
       "    }\n",
       "\n",
       "    .dataframe tbody tr th {\n",
       "        vertical-align: top;\n",
       "    }\n",
       "\n",
       "    .dataframe thead th {\n",
       "        text-align: right;\n",
       "    }\n",
       "</style>\n",
       "<table border=\"1\" class=\"dataframe\">\n",
       "  <thead>\n",
       "    <tr style=\"text-align: right;\">\n",
       "      <th></th>\n",
       "      <th>date</th>\n",
       "      <th>sample</th>\n",
       "      <th>confirmed</th>\n",
       "      <th>ratio</th>\n",
       "    </tr>\n",
       "  </thead>\n",
       "  <tbody>\n",
       "    <tr>\n",
       "      <th>0</th>\n",
       "      <td>13-03-2020</td>\n",
       "      <td>6500</td>\n",
       "      <td>78</td>\n",
       "      <td>1</td>\n",
       "    </tr>\n",
       "    <tr>\n",
       "      <th>1</th>\n",
       "      <td>18-03-2020</td>\n",
       "      <td>13125</td>\n",
       "      <td>150</td>\n",
       "      <td>1</td>\n",
       "    </tr>\n",
       "    <tr>\n",
       "      <th>2</th>\n",
       "      <td>19-03-2020</td>\n",
       "      <td>14175</td>\n",
       "      <td>182</td>\n",
       "      <td>1</td>\n",
       "    </tr>\n",
       "    <tr>\n",
       "      <th>3</th>\n",
       "      <td>20-03-2020</td>\n",
       "      <td>14376</td>\n",
       "      <td>206</td>\n",
       "      <td>1</td>\n",
       "    </tr>\n",
       "    <tr>\n",
       "      <th>4</th>\n",
       "      <td>20-03-2020</td>\n",
       "      <td>15404</td>\n",
       "      <td>236</td>\n",
       "      <td>2</td>\n",
       "    </tr>\n",
       "    <tr>\n",
       "      <th>5</th>\n",
       "      <td>21-03-2020</td>\n",
       "      <td>16911</td>\n",
       "      <td>315</td>\n",
       "      <td>2</td>\n",
       "    </tr>\n",
       "    <tr>\n",
       "      <th>6</th>\n",
       "      <td>22-03-2020</td>\n",
       "      <td>18127</td>\n",
       "      <td>396</td>\n",
       "      <td>2</td>\n",
       "    </tr>\n",
       "    <tr>\n",
       "      <th>7</th>\n",
       "      <td>23-03-2020</td>\n",
       "      <td>20707</td>\n",
       "      <td>471</td>\n",
       "      <td>2</td>\n",
       "    </tr>\n",
       "    <tr>\n",
       "      <th>8</th>\n",
       "      <td>24-03-2020</td>\n",
       "      <td>20864</td>\n",
       "      <td>482</td>\n",
       "      <td>2</td>\n",
       "    </tr>\n",
       "    <tr>\n",
       "      <th>9</th>\n",
       "      <td>25-03-2020</td>\n",
       "      <td>25144</td>\n",
       "      <td>581</td>\n",
       "      <td>2</td>\n",
       "    </tr>\n",
       "    <tr>\n",
       "      <th>10</th>\n",
       "      <td>27-03-2020</td>\n",
       "      <td>27688</td>\n",
       "      <td>691</td>\n",
       "      <td>2</td>\n",
       "    </tr>\n",
       "    <tr>\n",
       "      <th>11</th>\n",
       "      <td>01-04-2020</td>\n",
       "      <td>47951</td>\n",
       "      <td>1637</td>\n",
       "      <td>3</td>\n",
       "    </tr>\n",
       "    <tr>\n",
       "      <th>12</th>\n",
       "      <td>02-04-2020</td>\n",
       "      <td>55851</td>\n",
       "      <td>2056</td>\n",
       "      <td>4</td>\n",
       "    </tr>\n",
       "    <tr>\n",
       "      <th>13</th>\n",
       "      <td>03-04-2020</td>\n",
       "      <td>56680</td>\n",
       "      <td>2183</td>\n",
       "      <td>4</td>\n",
       "    </tr>\n",
       "  </tbody>\n",
       "</table>\n",
       "</div>"
      ],
      "text/plain": [
       "          date  sample  confirmed  ratio\n",
       "0   13-03-2020    6500         78      1\n",
       "1   18-03-2020   13125        150      1\n",
       "2   19-03-2020   14175        182      1\n",
       "3   20-03-2020   14376        206      1\n",
       "4   20-03-2020   15404        236      2\n",
       "5   21-03-2020   16911        315      2\n",
       "6   22-03-2020   18127        396      2\n",
       "7   23-03-2020   20707        471      2\n",
       "8   24-03-2020   20864        482      2\n",
       "9   25-03-2020   25144        581      2\n",
       "10  27-03-2020   27688        691      2\n",
       "11  01-04-2020   47951       1637      3\n",
       "12  02-04-2020   55851       2056      4\n",
       "13  03-04-2020   56680       2183      4"
      ]
     },
     "execution_count": 39,
     "metadata": {},
     "output_type": "execute_result"
    }
   ],
   "source": [
    "icmr_df"
   ]
  },
  {
   "cell_type": "code",
   "execution_count": 40,
   "metadata": {},
   "outputs": [
    {
     "data": {
      "text/plain": [
       "0    2020-03-13\n",
       "1    2020-03-18\n",
       "2    2020-03-19\n",
       "3    2020-03-20\n",
       "4    2020-03-20\n",
       "5    2020-03-21\n",
       "6    2020-03-22\n",
       "7    2020-03-23\n",
       "8    2020-03-24\n",
       "9    2020-03-25\n",
       "10   2020-03-27\n",
       "11   2020-04-01\n",
       "12   2020-04-02\n",
       "13   2020-04-03\n",
       "Name: date, dtype: datetime64[ns]"
      ]
     },
     "execution_count": 40,
     "metadata": {},
     "output_type": "execute_result"
    }
   ],
   "source": [
    "pd.to_datetime(icmr_df.date, format='%d-%m-%Y')"
   ]
  },
  {
   "cell_type": "code",
   "execution_count": 22,
   "metadata": {},
   "outputs": [
    {
     "data": {
      "text/plain": [
       "[{'date': datetime.date(1970, 1, 1),\n",
       "  'sample': 6500,\n",
       "  'confirmed': 78,\n",
       "  'ratio': 1},\n",
       " {'date': datetime.date(1970, 1, 1),\n",
       "  'sample': 13125,\n",
       "  'confirmed': 150,\n",
       "  'ratio': 1},\n",
       " {'date': datetime.date(1970, 1, 1),\n",
       "  'sample': 14175,\n",
       "  'confirmed': 182,\n",
       "  'ratio': 1},\n",
       " {'date': datetime.date(1970, 1, 1),\n",
       "  'sample': 14376,\n",
       "  'confirmed': 206,\n",
       "  'ratio': 1},\n",
       " {'date': datetime.date(1970, 1, 1),\n",
       "  'sample': 15404,\n",
       "  'confirmed': 236,\n",
       "  'ratio': 2},\n",
       " {'date': datetime.date(1970, 1, 1),\n",
       "  'sample': 16911,\n",
       "  'confirmed': 315,\n",
       "  'ratio': 2},\n",
       " {'date': datetime.date(1970, 1, 1),\n",
       "  'sample': 18127,\n",
       "  'confirmed': 396,\n",
       "  'ratio': 2},\n",
       " {'date': datetime.date(1970, 1, 1),\n",
       "  'sample': 20707,\n",
       "  'confirmed': 471,\n",
       "  'ratio': 2},\n",
       " {'date': datetime.date(1970, 1, 1),\n",
       "  'sample': 20864,\n",
       "  'confirmed': 482,\n",
       "  'ratio': 2},\n",
       " {'date': datetime.date(1970, 1, 1),\n",
       "  'sample': 25144,\n",
       "  'confirmed': 581,\n",
       "  'ratio': 2},\n",
       " {'date': datetime.date(1970, 1, 1),\n",
       "  'sample': 27688,\n",
       "  'confirmed': 691,\n",
       "  'ratio': 2},\n",
       " {'date': datetime.date(1970, 1, 1),\n",
       "  'sample': 47951,\n",
       "  'confirmed': 1637,\n",
       "  'ratio': 3},\n",
       " {'date': datetime.date(1970, 1, 1),\n",
       "  'sample': 55851,\n",
       "  'confirmed': 2056,\n",
       "  'ratio': 4},\n",
       " {'date': datetime.date(1970, 1, 1),\n",
       "  'sample': 56680,\n",
       "  'confirmed': 2183,\n",
       "  'ratio': 4}]"
      ]
     },
     "execution_count": 22,
     "metadata": {},
     "output_type": "execute_result"
    }
   ],
   "source": [
    "icmr_df.to_dict(orient='records')"
   ]
  },
  {
   "cell_type": "code",
   "execution_count": 49,
   "metadata": {},
   "outputs": [],
   "source": [
    "import requests\n",
    "import numpy as np\n",
    "import datetime"
   ]
  },
  {
   "cell_type": "code",
   "execution_count": 176,
   "metadata": {},
   "outputs": [],
   "source": [
    "API_URL = 'https://api.covid19india.org/raw_data.json'\n",
    "DIR =\"/Volumes/Lab/covid19-AnalyticsHbub/India/data/\"\n",
    "\n",
    "def load_covid19in_org(api_url, dir_):\n",
    "    RAW_D = requests.get(api_url)\n",
    "    raw_data = RAW_D.json()\n",
    "    raw_df = pd.json_normalize(raw_data, 'raw_data')\n",
    "    raw_df.replace(r'^\\s*$', np.nan, regex=True, inplace=True) #Replace Blank with NaN for pandas operation\n",
    "    raw_df = raw_df[raw_df.count(1) >5 ]\n",
    "    raw_df.nationality.fillna(\"India\",inplace=True)\n",
    "    raw_df.notes.fillna(\"no notest\", inplace=True)\n",
    "    raw_df['gender'] = raw_df.gender.replace({\"M\": \"Male\",\"F\": \"Female\"}).fillna(\"Not Available\")\n",
    "    raw_df.statuschangedate.fillna(raw_df.dateannounced,inplace=True) # replace status date nan value with dignosed date\n",
    "    raw_df.agebracket.replace({'28-35':'32'}, inplace=True) # Fill Age \n",
    "    raw_df['agebracket'] = raw_df.agebracket.fillna(-1).astype(int)\n",
    "    raw_df['dateannounced'] = pd.to_datetime(raw_df['dateannounced']).dt.date\n",
    "    raw_df['statuschangedate'] = pd.to_datetime(raw_df['statuschangedate']).dt.date\n",
    "    raw_df = raw_df.fillna('Not Available')\n",
    "    fname = datetime.datetime.now().strftime(\"%Y-%m-%d\")\n",
    "    raw_df.to_csv(dir_+'/covid19org/raw_'+fname+'.csv')\n",
    "    return raw_df"
   ]
  },
  {
   "cell_type": "code",
   "execution_count": 177,
   "metadata": {},
   "outputs": [],
   "source": [
    "df = load_covid19in_org(API_URL, DIR)"
   ]
  },
  {
   "cell_type": "code",
   "execution_count": 178,
   "metadata": {},
   "outputs": [
    {
     "name": "stdout",
     "output_type": "stream",
     "text": [
      "<class 'pandas.core.frame.DataFrame'>\n",
      "Int64Index: 3482 entries, 0 to 3481\n",
      "Data columns (total 20 columns):\n",
      " #   Column                               Non-Null Count  Dtype \n",
      "---  ------                               --------------  ----- \n",
      " 0   agebracket                           3482 non-null   int64 \n",
      " 1   backupnotes                          3482 non-null   object\n",
      " 2   contractedfromwhichpatientsuspected  3482 non-null   object\n",
      " 3   currentstatus                        3482 non-null   object\n",
      " 4   dateannounced                        3482 non-null   object\n",
      " 5   detectedcity                         3482 non-null   object\n",
      " 6   detecteddistrict                     3482 non-null   object\n",
      " 7   detectedstate                        3482 non-null   object\n",
      " 8   estimatedonsetdate                   3482 non-null   object\n",
      " 9   gender                               3482 non-null   object\n",
      " 10  nationality                          3482 non-null   object\n",
      " 11  notes                                3482 non-null   object\n",
      " 12  patientnumber                        3482 non-null   object\n",
      " 13  source1                              3482 non-null   object\n",
      " 14  source2                              3482 non-null   object\n",
      " 15  source3                              3482 non-null   object\n",
      " 16  statecode                            3482 non-null   object\n",
      " 17  statepatientnumber                   3482 non-null   object\n",
      " 18  statuschangedate                     3482 non-null   object\n",
      " 19  typeoftransmission                   3482 non-null   object\n",
      "dtypes: int64(1), object(19)\n",
      "memory usage: 571.3+ KB\n"
     ]
    }
   ],
   "source": [
    "df.info()"
   ]
  },
  {
   "cell_type": "code",
   "execution_count": 190,
   "metadata": {},
   "outputs": [
    {
     "data": {
      "text/plain": [
       "0      2020-01-30\n",
       "1      2020-02-02\n",
       "2      2020-03-02\n",
       "3      2020-02-03\n",
       "4      2020-02-03\n",
       "          ...    \n",
       "3477   2020-04-04\n",
       "3478   2020-04-04\n",
       "3479   2020-04-04\n",
       "3480   2020-04-04\n",
       "3481   2020-04-04\n",
       "Name: dateannounced, Length: 3482, dtype: datetime64[ns]"
      ]
     },
     "execution_count": 190,
     "metadata": {},
     "output_type": "execute_result"
    }
   ],
   "source": [
    "pd.to_datetime(df['dateannounced'])"
   ]
  },
  {
   "cell_type": "code",
   "execution_count": 60,
   "metadata": {},
   "outputs": [],
   "source": [
    "import requests\n",
    "import numpy as np"
   ]
  },
  {
   "cell_type": "markdown",
   "metadata": {},
   "source": [
    "## Global Cases"
   ]
  },
  {
   "cell_type": "code",
   "execution_count": 62,
   "metadata": {},
   "outputs": [],
   "source": [
    "json_url = 'https://pomber.github.io/covid19/timeseries.json'\n",
    "COVID19 = requests.get(json_url)\n",
    "COVID19 = COVID19.json()"
   ]
  },
  {
   "cell_type": "code",
   "execution_count": 64,
   "metadata": {},
   "outputs": [
    {
     "data": {
      "text/html": [
       "<div>\n",
       "<style scoped>\n",
       "    .dataframe tbody tr th:only-of-type {\n",
       "        vertical-align: middle;\n",
       "    }\n",
       "\n",
       "    .dataframe tbody tr th {\n",
       "        vertical-align: top;\n",
       "    }\n",
       "\n",
       "    .dataframe thead th {\n",
       "        text-align: right;\n",
       "    }\n",
       "</style>\n",
       "<table border=\"1\" class=\"dataframe\">\n",
       "  <thead>\n",
       "    <tr style=\"text-align: right;\">\n",
       "      <th></th>\n",
       "      <th>Afghanistan</th>\n",
       "      <th>Albania</th>\n",
       "      <th>Algeria</th>\n",
       "      <th>Andorra</th>\n",
       "      <th>Angola</th>\n",
       "      <th>Antigua and Barbuda</th>\n",
       "      <th>Argentina</th>\n",
       "      <th>Armenia</th>\n",
       "      <th>Australia</th>\n",
       "      <th>Austria</th>\n",
       "      <th>...</th>\n",
       "      <th>Guinea-Bissau</th>\n",
       "      <th>Mali</th>\n",
       "      <th>Saint Kitts and Nevis</th>\n",
       "      <th>Kosovo</th>\n",
       "      <th>Burma</th>\n",
       "      <th>MS Zaandam</th>\n",
       "      <th>Botswana</th>\n",
       "      <th>Burundi</th>\n",
       "      <th>Sierra Leone</th>\n",
       "      <th>Malawi</th>\n",
       "    </tr>\n",
       "  </thead>\n",
       "  <tbody>\n",
       "    <tr>\n",
       "      <th>0</th>\n",
       "      <td>[{'date': '2020-1-22', 'confirmed': 0, 'deaths...</td>\n",
       "      <td>[{'date': '2020-1-22', 'confirmed': 0, 'deaths...</td>\n",
       "      <td>[{'date': '2020-1-22', 'confirmed': 0, 'deaths...</td>\n",
       "      <td>[{'date': '2020-1-22', 'confirmed': 0, 'deaths...</td>\n",
       "      <td>[{'date': '2020-1-22', 'confirmed': 0, 'deaths...</td>\n",
       "      <td>[{'date': '2020-1-22', 'confirmed': 0, 'deaths...</td>\n",
       "      <td>[{'date': '2020-1-22', 'confirmed': 0, 'deaths...</td>\n",
       "      <td>[{'date': '2020-1-22', 'confirmed': 0, 'deaths...</td>\n",
       "      <td>[{'date': '2020-1-22', 'confirmed': 0, 'deaths...</td>\n",
       "      <td>[{'date': '2020-1-22', 'confirmed': 0, 'deaths...</td>\n",
       "      <td>...</td>\n",
       "      <td>[{'date': '2020-1-22', 'confirmed': 0, 'deaths...</td>\n",
       "      <td>[{'date': '2020-1-22', 'confirmed': 0, 'deaths...</td>\n",
       "      <td>[{'date': '2020-1-22', 'confirmed': 0, 'deaths...</td>\n",
       "      <td>[{'date': '2020-1-22', 'confirmed': 0, 'deaths...</td>\n",
       "      <td>[{'date': '2020-1-22', 'confirmed': 0, 'deaths...</td>\n",
       "      <td>[{'date': '2020-1-22', 'confirmed': 0, 'deaths...</td>\n",
       "      <td>[{'date': '2020-1-22', 'confirmed': 0, 'deaths...</td>\n",
       "      <td>[{'date': '2020-1-22', 'confirmed': 0, 'deaths...</td>\n",
       "      <td>[{'date': '2020-1-22', 'confirmed': 0, 'deaths...</td>\n",
       "      <td>[{'date': '2020-1-22', 'confirmed': 0, 'deaths...</td>\n",
       "    </tr>\n",
       "  </tbody>\n",
       "</table>\n",
       "<p>1 rows × 181 columns</p>\n",
       "</div>"
      ],
      "text/plain": [
       "                                         Afghanistan  \\\n",
       "0  [{'date': '2020-1-22', 'confirmed': 0, 'deaths...   \n",
       "\n",
       "                                             Albania  \\\n",
       "0  [{'date': '2020-1-22', 'confirmed': 0, 'deaths...   \n",
       "\n",
       "                                             Algeria  \\\n",
       "0  [{'date': '2020-1-22', 'confirmed': 0, 'deaths...   \n",
       "\n",
       "                                             Andorra  \\\n",
       "0  [{'date': '2020-1-22', 'confirmed': 0, 'deaths...   \n",
       "\n",
       "                                              Angola  \\\n",
       "0  [{'date': '2020-1-22', 'confirmed': 0, 'deaths...   \n",
       "\n",
       "                                 Antigua and Barbuda  \\\n",
       "0  [{'date': '2020-1-22', 'confirmed': 0, 'deaths...   \n",
       "\n",
       "                                           Argentina  \\\n",
       "0  [{'date': '2020-1-22', 'confirmed': 0, 'deaths...   \n",
       "\n",
       "                                             Armenia  \\\n",
       "0  [{'date': '2020-1-22', 'confirmed': 0, 'deaths...   \n",
       "\n",
       "                                           Australia  \\\n",
       "0  [{'date': '2020-1-22', 'confirmed': 0, 'deaths...   \n",
       "\n",
       "                                             Austria  ...  \\\n",
       "0  [{'date': '2020-1-22', 'confirmed': 0, 'deaths...  ...   \n",
       "\n",
       "                                       Guinea-Bissau  \\\n",
       "0  [{'date': '2020-1-22', 'confirmed': 0, 'deaths...   \n",
       "\n",
       "                                                Mali  \\\n",
       "0  [{'date': '2020-1-22', 'confirmed': 0, 'deaths...   \n",
       "\n",
       "                               Saint Kitts and Nevis  \\\n",
       "0  [{'date': '2020-1-22', 'confirmed': 0, 'deaths...   \n",
       "\n",
       "                                              Kosovo  \\\n",
       "0  [{'date': '2020-1-22', 'confirmed': 0, 'deaths...   \n",
       "\n",
       "                                               Burma  \\\n",
       "0  [{'date': '2020-1-22', 'confirmed': 0, 'deaths...   \n",
       "\n",
       "                                          MS Zaandam  \\\n",
       "0  [{'date': '2020-1-22', 'confirmed': 0, 'deaths...   \n",
       "\n",
       "                                            Botswana  \\\n",
       "0  [{'date': '2020-1-22', 'confirmed': 0, 'deaths...   \n",
       "\n",
       "                                             Burundi  \\\n",
       "0  [{'date': '2020-1-22', 'confirmed': 0, 'deaths...   \n",
       "\n",
       "                                        Sierra Leone  \\\n",
       "0  [{'date': '2020-1-22', 'confirmed': 0, 'deaths...   \n",
       "\n",
       "                                              Malawi  \n",
       "0  [{'date': '2020-1-22', 'confirmed': 0, 'deaths...  \n",
       "\n",
       "[1 rows x 181 columns]"
      ]
     },
     "execution_count": 64,
     "metadata": {},
     "output_type": "execute_result"
    }
   ],
   "source": [
    "pd.json_normalize(COVID19, )"
   ]
  },
  {
   "cell_type": "code",
   "execution_count": 66,
   "metadata": {},
   "outputs": [
    {
     "data": {
      "text/plain": [
       "dict_keys(['Afghanistan', 'Albania', 'Algeria', 'Andorra', 'Angola', 'Antigua and Barbuda', 'Argentina', 'Armenia', 'Australia', 'Austria', 'Azerbaijan', 'Bahamas', 'Bahrain', 'Bangladesh', 'Barbados', 'Belarus', 'Belgium', 'Benin', 'Bhutan', 'Bolivia', 'Bosnia and Herzegovina', 'Brazil', 'Brunei', 'Bulgaria', 'Burkina Faso', 'Cabo Verde', 'Cambodia', 'Cameroon', 'Canada', 'Central African Republic', 'Chad', 'Chile', 'China', 'Colombia', 'Congo (Brazzaville)', 'Congo (Kinshasa)', 'Costa Rica', \"Cote d'Ivoire\", 'Croatia', 'Diamond Princess', 'Cuba', 'Cyprus', 'Czechia', 'Denmark', 'Djibouti', 'Dominican Republic', 'Ecuador', 'Egypt', 'El Salvador', 'Equatorial Guinea', 'Eritrea', 'Estonia', 'Eswatini', 'Ethiopia', 'Fiji', 'Finland', 'France', 'Gabon', 'Gambia', 'Georgia', 'Germany', 'Ghana', 'Greece', 'Guatemala', 'Guinea', 'Guyana', 'Haiti', 'Holy See', 'Honduras', 'Hungary', 'Iceland', 'India', 'Indonesia', 'Iran', 'Iraq', 'Ireland', 'Israel', 'Italy', 'Jamaica', 'Japan', 'Jordan', 'Kazakhstan', 'Kenya', 'Korea, South', 'Kuwait', 'Kyrgyzstan', 'Latvia', 'Lebanon', 'Liberia', 'Liechtenstein', 'Lithuania', 'Luxembourg', 'Madagascar', 'Malaysia', 'Maldives', 'Malta', 'Mauritania', 'Mauritius', 'Mexico', 'Moldova', 'Monaco', 'Mongolia', 'Montenegro', 'Morocco', 'Namibia', 'Nepal', 'Netherlands', 'New Zealand', 'Nicaragua', 'Niger', 'Nigeria', 'North Macedonia', 'Norway', 'Oman', 'Pakistan', 'Panama', 'Papua New Guinea', 'Paraguay', 'Peru', 'Philippines', 'Poland', 'Portugal', 'Qatar', 'Romania', 'Russia', 'Rwanda', 'Saint Lucia', 'Saint Vincent and the Grenadines', 'San Marino', 'Saudi Arabia', 'Senegal', 'Serbia', 'Seychelles', 'Singapore', 'Slovakia', 'Slovenia', 'Somalia', 'South Africa', 'Spain', 'Sri Lanka', 'Sudan', 'Suriname', 'Sweden', 'Switzerland', 'Taiwan*', 'Tanzania', 'Thailand', 'Togo', 'Trinidad and Tobago', 'Tunisia', 'Turkey', 'Uganda', 'Ukraine', 'United Arab Emirates', 'United Kingdom', 'Uruguay', 'US', 'Uzbekistan', 'Venezuela', 'Vietnam', 'Zambia', 'Zimbabwe', 'Dominica', 'Grenada', 'Mozambique', 'Syria', 'Timor-Leste', 'Belize', 'Laos', 'Libya', 'West Bank and Gaza', 'Guinea-Bissau', 'Mali', 'Saint Kitts and Nevis', 'Kosovo', 'Burma', 'MS Zaandam', 'Botswana', 'Burundi', 'Sierra Leone', 'Malawi'])"
      ]
     },
     "execution_count": 66,
     "metadata": {},
     "output_type": "execute_result"
    }
   ],
   "source": [
    "COVID19.keys()"
   ]
  },
  {
   "cell_type": "code",
   "execution_count": 75,
   "metadata": {},
   "outputs": [
    {
     "data": {
      "text/html": [
       "<div>\n",
       "<style scoped>\n",
       "    .dataframe tbody tr th:only-of-type {\n",
       "        vertical-align: middle;\n",
       "    }\n",
       "\n",
       "    .dataframe tbody tr th {\n",
       "        vertical-align: top;\n",
       "    }\n",
       "\n",
       "    .dataframe thead th {\n",
       "        text-align: right;\n",
       "    }\n",
       "</style>\n",
       "<table border=\"1\" class=\"dataframe\">\n",
       "  <thead>\n",
       "    <tr style=\"text-align: right;\">\n",
       "      <th></th>\n",
       "      <th>date</th>\n",
       "      <th>confirmed</th>\n",
       "      <th>deaths</th>\n",
       "      <th>recovered</th>\n",
       "    </tr>\n",
       "  </thead>\n",
       "  <tbody>\n",
       "    <tr>\n",
       "      <th>0</th>\n",
       "      <td>2020-1-22</td>\n",
       "      <td>0</td>\n",
       "      <td>0</td>\n",
       "      <td>0</td>\n",
       "    </tr>\n",
       "    <tr>\n",
       "      <th>1</th>\n",
       "      <td>2020-1-23</td>\n",
       "      <td>0</td>\n",
       "      <td>0</td>\n",
       "      <td>0</td>\n",
       "    </tr>\n",
       "    <tr>\n",
       "      <th>2</th>\n",
       "      <td>2020-1-24</td>\n",
       "      <td>0</td>\n",
       "      <td>0</td>\n",
       "      <td>0</td>\n",
       "    </tr>\n",
       "    <tr>\n",
       "      <th>3</th>\n",
       "      <td>2020-1-25</td>\n",
       "      <td>0</td>\n",
       "      <td>0</td>\n",
       "      <td>0</td>\n",
       "    </tr>\n",
       "    <tr>\n",
       "      <th>4</th>\n",
       "      <td>2020-1-26</td>\n",
       "      <td>0</td>\n",
       "      <td>0</td>\n",
       "      <td>0</td>\n",
       "    </tr>\n",
       "    <tr>\n",
       "      <th>...</th>\n",
       "      <td>...</td>\n",
       "      <td>...</td>\n",
       "      <td>...</td>\n",
       "      <td>...</td>\n",
       "    </tr>\n",
       "    <tr>\n",
       "      <th>68</th>\n",
       "      <td>2020-3-30</td>\n",
       "      <td>170</td>\n",
       "      <td>4</td>\n",
       "      <td>2</td>\n",
       "    </tr>\n",
       "    <tr>\n",
       "      <th>69</th>\n",
       "      <td>2020-3-31</td>\n",
       "      <td>174</td>\n",
       "      <td>4</td>\n",
       "      <td>5</td>\n",
       "    </tr>\n",
       "    <tr>\n",
       "      <th>70</th>\n",
       "      <td>2020-4-1</td>\n",
       "      <td>237</td>\n",
       "      <td>4</td>\n",
       "      <td>5</td>\n",
       "    </tr>\n",
       "    <tr>\n",
       "      <th>71</th>\n",
       "      <td>2020-4-2</td>\n",
       "      <td>273</td>\n",
       "      <td>6</td>\n",
       "      <td>10</td>\n",
       "    </tr>\n",
       "    <tr>\n",
       "      <th>72</th>\n",
       "      <td>2020-4-3</td>\n",
       "      <td>281</td>\n",
       "      <td>6</td>\n",
       "      <td>10</td>\n",
       "    </tr>\n",
       "  </tbody>\n",
       "</table>\n",
       "<p>73 rows × 4 columns</p>\n",
       "</div>"
      ],
      "text/plain": [
       "         date  confirmed  deaths  recovered\n",
       "0   2020-1-22          0       0          0\n",
       "1   2020-1-23          0       0          0\n",
       "2   2020-1-24          0       0          0\n",
       "3   2020-1-25          0       0          0\n",
       "4   2020-1-26          0       0          0\n",
       "..        ...        ...     ...        ...\n",
       "68  2020-3-30        170       4          2\n",
       "69  2020-3-31        174       4          5\n",
       "70   2020-4-1        237       4          5\n",
       "71   2020-4-2        273       6         10\n",
       "72   2020-4-3        281       6         10\n",
       "\n",
       "[73 rows x 4 columns]"
      ]
     },
     "execution_count": 75,
     "metadata": {},
     "output_type": "execute_result"
    }
   ],
   "source": [
    "\n",
    "pd.json_normalize(COVID19, 'Afghanistan')"
   ]
  },
  {
   "cell_type": "code",
   "execution_count": 83,
   "metadata": {},
   "outputs": [
    {
     "data": {
      "text/html": [
       "<div>\n",
       "<style scoped>\n",
       "    .dataframe tbody tr th:only-of-type {\n",
       "        vertical-align: middle;\n",
       "    }\n",
       "\n",
       "    .dataframe tbody tr th {\n",
       "        vertical-align: top;\n",
       "    }\n",
       "\n",
       "    .dataframe thead th {\n",
       "        text-align: right;\n",
       "    }\n",
       "</style>\n",
       "<table border=\"1\" class=\"dataframe\">\n",
       "  <thead>\n",
       "    <tr style=\"text-align: right;\">\n",
       "      <th></th>\n",
       "      <th>date</th>\n",
       "      <th>confirmed</th>\n",
       "      <th>deaths</th>\n",
       "      <th>recovered</th>\n",
       "    </tr>\n",
       "  </thead>\n",
       "  <tbody>\n",
       "    <tr>\n",
       "      <th>0</th>\n",
       "      <td>2020-1-22</td>\n",
       "      <td>0</td>\n",
       "      <td>0</td>\n",
       "      <td>0</td>\n",
       "    </tr>\n",
       "    <tr>\n",
       "      <th>1</th>\n",
       "      <td>2020-1-23</td>\n",
       "      <td>0</td>\n",
       "      <td>0</td>\n",
       "      <td>0</td>\n",
       "    </tr>\n",
       "    <tr>\n",
       "      <th>2</th>\n",
       "      <td>2020-1-24</td>\n",
       "      <td>0</td>\n",
       "      <td>0</td>\n",
       "      <td>0</td>\n",
       "    </tr>\n",
       "    <tr>\n",
       "      <th>3</th>\n",
       "      <td>2020-1-25</td>\n",
       "      <td>0</td>\n",
       "      <td>0</td>\n",
       "      <td>0</td>\n",
       "    </tr>\n",
       "    <tr>\n",
       "      <th>4</th>\n",
       "      <td>2020-1-26</td>\n",
       "      <td>0</td>\n",
       "      <td>0</td>\n",
       "      <td>0</td>\n",
       "    </tr>\n",
       "    <tr>\n",
       "      <th>...</th>\n",
       "      <td>...</td>\n",
       "      <td>...</td>\n",
       "      <td>...</td>\n",
       "      <td>...</td>\n",
       "    </tr>\n",
       "    <tr>\n",
       "      <th>68</th>\n",
       "      <td>2020-3-30</td>\n",
       "      <td>170</td>\n",
       "      <td>4</td>\n",
       "      <td>2</td>\n",
       "    </tr>\n",
       "    <tr>\n",
       "      <th>69</th>\n",
       "      <td>2020-3-31</td>\n",
       "      <td>174</td>\n",
       "      <td>4</td>\n",
       "      <td>5</td>\n",
       "    </tr>\n",
       "    <tr>\n",
       "      <th>70</th>\n",
       "      <td>2020-4-1</td>\n",
       "      <td>237</td>\n",
       "      <td>4</td>\n",
       "      <td>5</td>\n",
       "    </tr>\n",
       "    <tr>\n",
       "      <th>71</th>\n",
       "      <td>2020-4-2</td>\n",
       "      <td>273</td>\n",
       "      <td>6</td>\n",
       "      <td>10</td>\n",
       "    </tr>\n",
       "    <tr>\n",
       "      <th>72</th>\n",
       "      <td>2020-4-3</td>\n",
       "      <td>281</td>\n",
       "      <td>6</td>\n",
       "      <td>10</td>\n",
       "    </tr>\n",
       "  </tbody>\n",
       "</table>\n",
       "<p>73 rows × 4 columns</p>\n",
       "</div>"
      ],
      "text/plain": [
       "         date  confirmed  deaths  recovered\n",
       "0   2020-1-22          0       0          0\n",
       "1   2020-1-23          0       0          0\n",
       "2   2020-1-24          0       0          0\n",
       "3   2020-1-25          0       0          0\n",
       "4   2020-1-26          0       0          0\n",
       "..        ...        ...     ...        ...\n",
       "68  2020-3-30        170       4          2\n",
       "69  2020-3-31        174       4          5\n",
       "70   2020-4-1        237       4          5\n",
       "71   2020-4-2        273       6         10\n",
       "72   2020-4-3        281       6         10\n",
       "\n",
       "[73 rows x 4 columns]"
      ]
     },
     "execution_count": 83,
     "metadata": {},
     "output_type": "execute_result"
    }
   ],
   "source": [
    "pd.json_normalize(COVID19, 'Afghanistan')"
   ]
  },
  {
   "cell_type": "code",
   "execution_count": 86,
   "metadata": {},
   "outputs": [
    {
     "data": {
      "text/plain": [
       "['Afghanistan', 'Albania', 'Algeria', 'Andorra', 'Angola']"
      ]
     },
     "execution_count": 86,
     "metadata": {},
     "output_type": "execute_result"
    }
   ],
   "source": [
    "list(COVID19.keys())[:5]"
   ]
  },
  {
   "cell_type": "code",
   "execution_count": 96,
   "metadata": {},
   "outputs": [],
   "source": [
    "for key in list(COVID19.keys())[:2]:\n",
    "    dataset = pd.json_normalize(COVID19, key)\n",
    "    dataset['country'] = key\n",
    "    df.append(dataset)"
   ]
  },
  {
   "cell_type": "code",
   "execution_count": 98,
   "metadata": {},
   "outputs": [],
   "source": [
    "dataset = pd.json_normalize(COVID19, 'India')"
   ]
  },
  {
   "cell_type": "code",
   "execution_count": 91,
   "metadata": {},
   "outputs": [],
   "source": [
    "dataset['country'] = 'India'"
   ]
  },
  {
   "cell_type": "code",
   "execution_count": 165,
   "metadata": {},
   "outputs": [],
   "source": [
    "def load_covid_json(json_f):\n",
    "    append_covid = []\n",
    "    for key in json_f.keys():\n",
    "        data = pd.json_normalize(json_f, key)\n",
    "        data['country'] = key\n",
    "        data['recovery_rate'] = (data.recovered/data.confirmed).fillna(0)\n",
    "        data['deaths_rate'] = (data.deaths/data.confirmed).fillna(0)\n",
    "        data['date'] = pd.to_datetime(data.date)\n",
    "        append_covid.append(data)\n",
    "    append_covid = pd.concat(append_covid)   \n",
    "    return append_covid"
   ]
  },
  {
   "cell_type": "code",
   "execution_count": 166,
   "metadata": {},
   "outputs": [],
   "source": [
    "df = load_covid_json(COVID19)"
   ]
  },
  {
   "cell_type": "code",
   "execution_count": 173,
   "metadata": {},
   "outputs": [
    {
     "name": "stdout",
     "output_type": "stream",
     "text": [
      "<class 'pandas.core.frame.DataFrame'>\n",
      "Int64Index: 13213 entries, 0 to 72\n",
      "Data columns (total 7 columns):\n",
      " #   Column         Non-Null Count  Dtype  \n",
      "---  ------         --------------  -----  \n",
      " 0   date           13213 non-null  object \n",
      " 1   confirmed      13213 non-null  int64  \n",
      " 2   deaths         13213 non-null  int64  \n",
      " 3   recovered      13213 non-null  int64  \n",
      " 4   country        13213 non-null  object \n",
      " 5   recovery_rate  13213 non-null  float64\n",
      " 6   deaths_rate    13213 non-null  float64\n",
      "dtypes: float64(2), int64(3), object(2)\n",
      "memory usage: 825.8+ KB\n"
     ]
    }
   ],
   "source": [
    "df.info()"
   ]
  },
  {
   "cell_type": "code",
   "execution_count": 172,
   "metadata": {},
   "outputs": [
    {
     "data": {
      "text/plain": [
       "Timestamp('2020-01-22 00:00:00')"
      ]
     },
     "execution_count": 172,
     "metadata": {},
     "output_type": "execute_result"
    }
   ],
   "source": [
    "pd.to_datetime(df.date)"
   ]
  },
  {
   "cell_type": "code",
   "execution_count": 159,
   "metadata": {},
   "outputs": [
    {
     "data": {
      "text/plain": [
       "count    13213.000000\n",
       "mean       281.311057\n",
       "std       3592.677756\n",
       "min          0.000000\n",
       "25%          0.000000\n",
       "50%          0.000000\n",
       "75%          0.000000\n",
       "max      76760.000000\n",
       "Name: recovered, dtype: float64"
      ]
     },
     "execution_count": 159,
     "metadata": {},
     "output_type": "execute_result"
    }
   ],
   "source": [
    "df.recovered.describe()"
   ]
  },
  {
   "cell_type": "code",
   "execution_count": 174,
   "metadata": {},
   "outputs": [
    {
     "data": {
      "text/plain": [
       "array(['Afghanistan', 'Albania', 'Algeria', 'Andorra', 'Angola',\n",
       "       'Antigua and Barbuda', 'Argentina', 'Armenia', 'Australia',\n",
       "       'Austria', 'Azerbaijan', 'Bahamas', 'Bahrain', 'Bangladesh',\n",
       "       'Barbados', 'Belarus', 'Belgium', 'Benin', 'Bhutan', 'Bolivia',\n",
       "       'Bosnia and Herzegovina', 'Brazil', 'Brunei', 'Bulgaria',\n",
       "       'Burkina Faso', 'Cabo Verde', 'Cambodia', 'Cameroon', 'Canada',\n",
       "       'Central African Republic', 'Chad', 'Chile', 'China', 'Colombia',\n",
       "       'Congo (Brazzaville)', 'Congo (Kinshasa)', 'Costa Rica',\n",
       "       \"Cote d'Ivoire\", 'Croatia', 'Diamond Princess', 'Cuba', 'Cyprus',\n",
       "       'Czechia', 'Denmark', 'Djibouti', 'Dominican Republic', 'Ecuador',\n",
       "       'Egypt', 'El Salvador', 'Equatorial Guinea', 'Eritrea', 'Estonia',\n",
       "       'Eswatini', 'Ethiopia', 'Fiji', 'Finland', 'France', 'Gabon',\n",
       "       'Gambia', 'Georgia', 'Germany', 'Ghana', 'Greece', 'Guatemala',\n",
       "       'Guinea', 'Guyana', 'Haiti', 'Holy See', 'Honduras', 'Hungary',\n",
       "       'Iceland', 'India', 'Indonesia', 'Iran', 'Iraq', 'Ireland',\n",
       "       'Israel', 'Italy', 'Jamaica', 'Japan', 'Jordan', 'Kazakhstan',\n",
       "       'Kenya', 'Korea, South', 'Kuwait', 'Kyrgyzstan', 'Latvia',\n",
       "       'Lebanon', 'Liberia', 'Liechtenstein', 'Lithuania', 'Luxembourg',\n",
       "       'Madagascar', 'Malaysia', 'Maldives', 'Malta', 'Mauritania',\n",
       "       'Mauritius', 'Mexico', 'Moldova', 'Monaco', 'Mongolia',\n",
       "       'Montenegro', 'Morocco', 'Namibia', 'Nepal', 'Netherlands',\n",
       "       'New Zealand', 'Nicaragua', 'Niger', 'Nigeria', 'North Macedonia',\n",
       "       'Norway', 'Oman', 'Pakistan', 'Panama', 'Papua New Guinea',\n",
       "       'Paraguay', 'Peru', 'Philippines', 'Poland', 'Portugal', 'Qatar',\n",
       "       'Romania', 'Russia', 'Rwanda', 'Saint Lucia',\n",
       "       'Saint Vincent and the Grenadines', 'San Marino', 'Saudi Arabia',\n",
       "       'Senegal', 'Serbia', 'Seychelles', 'Singapore', 'Slovakia',\n",
       "       'Slovenia', 'Somalia', 'South Africa', 'Spain', 'Sri Lanka',\n",
       "       'Sudan', 'Suriname', 'Sweden', 'Switzerland', 'Taiwan*',\n",
       "       'Tanzania', 'Thailand', 'Togo', 'Trinidad and Tobago', 'Tunisia',\n",
       "       'Turkey', 'Uganda', 'Ukraine', 'United Arab Emirates',\n",
       "       'United Kingdom', 'Uruguay', 'US', 'Uzbekistan', 'Venezuela',\n",
       "       'Vietnam', 'Zambia', 'Zimbabwe', 'Dominica', 'Grenada',\n",
       "       'Mozambique', 'Syria', 'Timor-Leste', 'Belize', 'Laos', 'Libya',\n",
       "       'West Bank and Gaza', 'Guinea-Bissau', 'Mali',\n",
       "       'Saint Kitts and Nevis', 'Kosovo', 'Burma', 'MS Zaandam',\n",
       "       'Botswana', 'Burundi', 'Sierra Leone', 'Malawi'], dtype=object)"
      ]
     },
     "execution_count": 174,
     "metadata": {},
     "output_type": "execute_result"
    }
   ],
   "source": [
    "df.country.unique()"
   ]
  },
  {
   "cell_type": "code",
   "execution_count": 175,
   "metadata": {},
   "outputs": [
    {
     "data": {
      "text/plain": [
       "0     Afghanistan\n",
       "1     Afghanistan\n",
       "2     Afghanistan\n",
       "3     Afghanistan\n",
       "4     Afghanistan\n",
       "         ...     \n",
       "68         Malawi\n",
       "69         Malawi\n",
       "70         Malawi\n",
       "71         Malawi\n",
       "72         Malawi\n",
       "Name: country, Length: 13213, dtype: object"
      ]
     },
     "execution_count": 175,
     "metadata": {},
     "output_type": "execute_result"
    }
   ],
   "source": [
    "df.country.replace({'US': 'United States of America',\n",
    "                  'Korea,South': 'South Korea'}, inplace=True)"
   ]
  },
  {
   "cell_type": "code",
   "execution_count": 162,
   "metadata": {},
   "outputs": [],
   "source": [
    "'United States of America', 'South Korea'"
   ]
  },
  {
   "cell_type": "code",
   "execution_count": 236,
   "metadata": {},
   "outputs": [],
   "source": [
    "json_url = 'https://pomber.github.io/covid19/timeseries.json'"
   ]
  },
  {
   "cell_type": "code",
   "execution_count": 237,
   "metadata": {},
   "outputs": [],
   "source": [
    "def load_covid_json(url):\n",
    "    covid19_json = requests.get(url)\n",
    "    covid19_json = covid19_json.json()\n",
    "    append_covid = []\n",
    "    for key in covid19_json.keys():\n",
    "        data = pd.json_normalize(covid19_json, key)\n",
    "        data['country'] = key\n",
    "        data['recovery_rate'] = (data.recovered/data.confirmed).fillna(0)\n",
    "        data['deaths_rate'] = (data.deaths/data.confirmed).fillna(0)\n",
    "        data['date'] = pd.to_datetime(data.date)\n",
    "        append_covid.append(data)\n",
    "    append_covid = pd.concat(append_covid)   \n",
    "    append_covid['country'] = append_covid['country'].replace({'US': 'United States of America',\n",
    "                  'Korea,South': 'South Korea'})\n",
    "    return append_covid\n",
    "\n"
   ]
  },
  {
   "cell_type": "code",
   "execution_count": 238,
   "metadata": {},
   "outputs": [],
   "source": [
    "#\n",
    "dfc = load_covid_json(json_url)"
   ]
  },
  {
   "cell_type": "code",
   "execution_count": 239,
   "metadata": {},
   "outputs": [
    {
     "data": {
      "text/plain": [
       "Index(['date', 'confirmed', 'deaths', 'recovered', 'country', 'recovery_rate',\n",
       "       'deaths_rate'],\n",
       "      dtype='object')"
      ]
     },
     "execution_count": 239,
     "metadata": {},
     "output_type": "execute_result"
    }
   ],
   "source": [
    "dfc.columns"
   ]
  },
  {
   "cell_type": "code",
   "execution_count": 240,
   "metadata": {},
   "outputs": [],
   "source": [
    "dfc['country'] = dfc['country'].replace({'US': 'United States of America',\n",
    "                  'Korea,South': 'South Korea'})"
   ]
  },
  {
   "cell_type": "code",
   "execution_count": 241,
   "metadata": {},
   "outputs": [
    {
     "data": {
      "text/html": [
       "<div>\n",
       "<style scoped>\n",
       "    .dataframe tbody tr th:only-of-type {\n",
       "        vertical-align: middle;\n",
       "    }\n",
       "\n",
       "    .dataframe tbody tr th {\n",
       "        vertical-align: top;\n",
       "    }\n",
       "\n",
       "    .dataframe thead th {\n",
       "        text-align: right;\n",
       "    }\n",
       "</style>\n",
       "<table border=\"1\" class=\"dataframe\">\n",
       "  <thead>\n",
       "    <tr style=\"text-align: right;\">\n",
       "      <th></th>\n",
       "      <th>date</th>\n",
       "      <th>confirmed</th>\n",
       "      <th>deaths</th>\n",
       "      <th>recovered</th>\n",
       "      <th>country</th>\n",
       "      <th>recovery_rate</th>\n",
       "      <th>deaths_rate</th>\n",
       "    </tr>\n",
       "  </thead>\n",
       "  <tbody>\n",
       "    <tr>\n",
       "      <th>0</th>\n",
       "      <td>2020-01-22</td>\n",
       "      <td>0</td>\n",
       "      <td>0</td>\n",
       "      <td>0</td>\n",
       "      <td>Afghanistan</td>\n",
       "      <td>0.0</td>\n",
       "      <td>0.0</td>\n",
       "    </tr>\n",
       "    <tr>\n",
       "      <th>1</th>\n",
       "      <td>2020-01-23</td>\n",
       "      <td>0</td>\n",
       "      <td>0</td>\n",
       "      <td>0</td>\n",
       "      <td>Afghanistan</td>\n",
       "      <td>0.0</td>\n",
       "      <td>0.0</td>\n",
       "    </tr>\n",
       "    <tr>\n",
       "      <th>2</th>\n",
       "      <td>2020-01-24</td>\n",
       "      <td>0</td>\n",
       "      <td>0</td>\n",
       "      <td>0</td>\n",
       "      <td>Afghanistan</td>\n",
       "      <td>0.0</td>\n",
       "      <td>0.0</td>\n",
       "    </tr>\n",
       "    <tr>\n",
       "      <th>3</th>\n",
       "      <td>2020-01-25</td>\n",
       "      <td>0</td>\n",
       "      <td>0</td>\n",
       "      <td>0</td>\n",
       "      <td>Afghanistan</td>\n",
       "      <td>0.0</td>\n",
       "      <td>0.0</td>\n",
       "    </tr>\n",
       "    <tr>\n",
       "      <th>4</th>\n",
       "      <td>2020-01-26</td>\n",
       "      <td>0</td>\n",
       "      <td>0</td>\n",
       "      <td>0</td>\n",
       "      <td>Afghanistan</td>\n",
       "      <td>0.0</td>\n",
       "      <td>0.0</td>\n",
       "    </tr>\n",
       "    <tr>\n",
       "      <th>...</th>\n",
       "      <td>...</td>\n",
       "      <td>...</td>\n",
       "      <td>...</td>\n",
       "      <td>...</td>\n",
       "      <td>...</td>\n",
       "      <td>...</td>\n",
       "      <td>...</td>\n",
       "    </tr>\n",
       "    <tr>\n",
       "      <th>69</th>\n",
       "      <td>2020-03-31</td>\n",
       "      <td>0</td>\n",
       "      <td>0</td>\n",
       "      <td>0</td>\n",
       "      <td>Malawi</td>\n",
       "      <td>0.0</td>\n",
       "      <td>0.0</td>\n",
       "    </tr>\n",
       "    <tr>\n",
       "      <th>70</th>\n",
       "      <td>2020-04-01</td>\n",
       "      <td>0</td>\n",
       "      <td>0</td>\n",
       "      <td>0</td>\n",
       "      <td>Malawi</td>\n",
       "      <td>0.0</td>\n",
       "      <td>0.0</td>\n",
       "    </tr>\n",
       "    <tr>\n",
       "      <th>71</th>\n",
       "      <td>2020-04-02</td>\n",
       "      <td>3</td>\n",
       "      <td>0</td>\n",
       "      <td>0</td>\n",
       "      <td>Malawi</td>\n",
       "      <td>0.0</td>\n",
       "      <td>0.0</td>\n",
       "    </tr>\n",
       "    <tr>\n",
       "      <th>72</th>\n",
       "      <td>2020-04-03</td>\n",
       "      <td>3</td>\n",
       "      <td>0</td>\n",
       "      <td>0</td>\n",
       "      <td>Malawi</td>\n",
       "      <td>0.0</td>\n",
       "      <td>0.0</td>\n",
       "    </tr>\n",
       "    <tr>\n",
       "      <th>73</th>\n",
       "      <td>2020-04-04</td>\n",
       "      <td>4</td>\n",
       "      <td>0</td>\n",
       "      <td>0</td>\n",
       "      <td>Malawi</td>\n",
       "      <td>0.0</td>\n",
       "      <td>0.0</td>\n",
       "    </tr>\n",
       "  </tbody>\n",
       "</table>\n",
       "<p>13394 rows × 7 columns</p>\n",
       "</div>"
      ],
      "text/plain": [
       "         date  confirmed  deaths  recovered      country  recovery_rate  \\\n",
       "0  2020-01-22          0       0          0  Afghanistan            0.0   \n",
       "1  2020-01-23          0       0          0  Afghanistan            0.0   \n",
       "2  2020-01-24          0       0          0  Afghanistan            0.0   \n",
       "3  2020-01-25          0       0          0  Afghanistan            0.0   \n",
       "4  2020-01-26          0       0          0  Afghanistan            0.0   \n",
       "..        ...        ...     ...        ...          ...            ...   \n",
       "69 2020-03-31          0       0          0       Malawi            0.0   \n",
       "70 2020-04-01          0       0          0       Malawi            0.0   \n",
       "71 2020-04-02          3       0          0       Malawi            0.0   \n",
       "72 2020-04-03          3       0          0       Malawi            0.0   \n",
       "73 2020-04-04          4       0          0       Malawi            0.0   \n",
       "\n",
       "    deaths_rate  \n",
       "0           0.0  \n",
       "1           0.0  \n",
       "2           0.0  \n",
       "3           0.0  \n",
       "4           0.0  \n",
       "..          ...  \n",
       "69          0.0  \n",
       "70          0.0  \n",
       "71          0.0  \n",
       "72          0.0  \n",
       "73          0.0  \n",
       "\n",
       "[13394 rows x 7 columns]"
      ]
     },
     "execution_count": 241,
     "metadata": {},
     "output_type": "execute_result"
    }
   ],
   "source": [
    "dfc"
   ]
  },
  {
   "cell_type": "code",
   "execution_count": 256,
   "metadata": {},
   "outputs": [],
   "source": [
    "dfc = dfc.sort_values(by='confirmed',ascending=False).groupby(['date', 'country']).first().reset_index()\n",
    "dfc['date'] = pd.to_datetime(dfc['date']).dt.date"
   ]
  },
  {
   "cell_type": "code",
   "execution_count": 257,
   "metadata": {},
   "outputs": [],
   "source": [
    "dfc_yest = dfc.copy()\n",
    "dfc_yest['date'] = pd.to_datetime(dfc_yest['date']).dt.date + pd.to_timedelta(np.ceil(1), unit=\"D\")"
   ]
  },
  {
   "cell_type": "code",
   "execution_count": 258,
   "metadata": {},
   "outputs": [
    {
     "data": {
      "text/html": [
       "<div>\n",
       "<style scoped>\n",
       "    .dataframe tbody tr th:only-of-type {\n",
       "        vertical-align: middle;\n",
       "    }\n",
       "\n",
       "    .dataframe tbody tr th {\n",
       "        vertical-align: top;\n",
       "    }\n",
       "\n",
       "    .dataframe thead th {\n",
       "        text-align: right;\n",
       "    }\n",
       "</style>\n",
       "<table border=\"1\" class=\"dataframe\">\n",
       "  <thead>\n",
       "    <tr style=\"text-align: right;\">\n",
       "      <th></th>\n",
       "      <th>date</th>\n",
       "      <th>country</th>\n",
       "      <th>confirmed</th>\n",
       "      <th>deaths</th>\n",
       "      <th>recovered</th>\n",
       "      <th>recovery_rate</th>\n",
       "      <th>deaths_rate</th>\n",
       "    </tr>\n",
       "  </thead>\n",
       "  <tbody>\n",
       "    <tr>\n",
       "      <th>0</th>\n",
       "      <td>2020-01-23</td>\n",
       "      <td>Afghanistan</td>\n",
       "      <td>0</td>\n",
       "      <td>0</td>\n",
       "      <td>0</td>\n",
       "      <td>0.000000</td>\n",
       "      <td>0.000000</td>\n",
       "    </tr>\n",
       "    <tr>\n",
       "      <th>1</th>\n",
       "      <td>2020-01-23</td>\n",
       "      <td>Albania</td>\n",
       "      <td>0</td>\n",
       "      <td>0</td>\n",
       "      <td>0</td>\n",
       "      <td>0.000000</td>\n",
       "      <td>0.000000</td>\n",
       "    </tr>\n",
       "    <tr>\n",
       "      <th>2</th>\n",
       "      <td>2020-01-23</td>\n",
       "      <td>Algeria</td>\n",
       "      <td>0</td>\n",
       "      <td>0</td>\n",
       "      <td>0</td>\n",
       "      <td>0.000000</td>\n",
       "      <td>0.000000</td>\n",
       "    </tr>\n",
       "    <tr>\n",
       "      <th>3</th>\n",
       "      <td>2020-01-23</td>\n",
       "      <td>Andorra</td>\n",
       "      <td>0</td>\n",
       "      <td>0</td>\n",
       "      <td>0</td>\n",
       "      <td>0.000000</td>\n",
       "      <td>0.000000</td>\n",
       "    </tr>\n",
       "    <tr>\n",
       "      <th>4</th>\n",
       "      <td>2020-01-23</td>\n",
       "      <td>Angola</td>\n",
       "      <td>0</td>\n",
       "      <td>0</td>\n",
       "      <td>0</td>\n",
       "      <td>0.000000</td>\n",
       "      <td>0.000000</td>\n",
       "    </tr>\n",
       "    <tr>\n",
       "      <th>...</th>\n",
       "      <td>...</td>\n",
       "      <td>...</td>\n",
       "      <td>...</td>\n",
       "      <td>...</td>\n",
       "      <td>...</td>\n",
       "      <td>...</td>\n",
       "      <td>...</td>\n",
       "    </tr>\n",
       "    <tr>\n",
       "      <th>13389</th>\n",
       "      <td>2020-04-05</td>\n",
       "      <td>Venezuela</td>\n",
       "      <td>155</td>\n",
       "      <td>7</td>\n",
       "      <td>52</td>\n",
       "      <td>0.335484</td>\n",
       "      <td>0.045161</td>\n",
       "    </tr>\n",
       "    <tr>\n",
       "      <th>13390</th>\n",
       "      <td>2020-04-05</td>\n",
       "      <td>Vietnam</td>\n",
       "      <td>240</td>\n",
       "      <td>0</td>\n",
       "      <td>90</td>\n",
       "      <td>0.375000</td>\n",
       "      <td>0.000000</td>\n",
       "    </tr>\n",
       "    <tr>\n",
       "      <th>13391</th>\n",
       "      <td>2020-04-05</td>\n",
       "      <td>West Bank and Gaza</td>\n",
       "      <td>217</td>\n",
       "      <td>1</td>\n",
       "      <td>21</td>\n",
       "      <td>0.096774</td>\n",
       "      <td>0.004608</td>\n",
       "    </tr>\n",
       "    <tr>\n",
       "      <th>13392</th>\n",
       "      <td>2020-04-05</td>\n",
       "      <td>Zambia</td>\n",
       "      <td>39</td>\n",
       "      <td>1</td>\n",
       "      <td>2</td>\n",
       "      <td>0.051282</td>\n",
       "      <td>0.025641</td>\n",
       "    </tr>\n",
       "    <tr>\n",
       "      <th>13393</th>\n",
       "      <td>2020-04-05</td>\n",
       "      <td>Zimbabwe</td>\n",
       "      <td>9</td>\n",
       "      <td>1</td>\n",
       "      <td>0</td>\n",
       "      <td>0.000000</td>\n",
       "      <td>0.111111</td>\n",
       "    </tr>\n",
       "  </tbody>\n",
       "</table>\n",
       "<p>13394 rows × 7 columns</p>\n",
       "</div>"
      ],
      "text/plain": [
       "             date             country  confirmed  deaths  recovered  \\\n",
       "0      2020-01-23         Afghanistan          0       0          0   \n",
       "1      2020-01-23             Albania          0       0          0   \n",
       "2      2020-01-23             Algeria          0       0          0   \n",
       "3      2020-01-23             Andorra          0       0          0   \n",
       "4      2020-01-23              Angola          0       0          0   \n",
       "...           ...                 ...        ...     ...        ...   \n",
       "13389  2020-04-05           Venezuela        155       7         52   \n",
       "13390  2020-04-05             Vietnam        240       0         90   \n",
       "13391  2020-04-05  West Bank and Gaza        217       1         21   \n",
       "13392  2020-04-05              Zambia         39       1          2   \n",
       "13393  2020-04-05            Zimbabwe          9       1          0   \n",
       "\n",
       "       recovery_rate  deaths_rate  \n",
       "0           0.000000     0.000000  \n",
       "1           0.000000     0.000000  \n",
       "2           0.000000     0.000000  \n",
       "3           0.000000     0.000000  \n",
       "4           0.000000     0.000000  \n",
       "...              ...          ...  \n",
       "13389       0.335484     0.045161  \n",
       "13390       0.375000     0.000000  \n",
       "13391       0.096774     0.004608  \n",
       "13392       0.051282     0.025641  \n",
       "13393       0.000000     0.111111  \n",
       "\n",
       "[13394 rows x 7 columns]"
      ]
     },
     "execution_count": 258,
     "metadata": {},
     "output_type": "execute_result"
    }
   ],
   "source": [
    "dfc_yest"
   ]
  },
  {
   "cell_type": "code",
   "execution_count": 261,
   "metadata": {},
   "outputs": [],
   "source": [
    "final_df = dfc.merge(dfc_yest.iloc[:,:-2], on=['date','country'],suffixes=('', '_yest'), how='left').fillna(0)\n",
    "final_df['recovery_rate'] = final_df.confirmed - final_df.confirmed_yest\n",
    "final_df = final_df.iloc[:,:-3]"
   ]
  },
  {
   "cell_type": "code",
   "execution_count": 264,
   "metadata": {},
   "outputs": [
    {
     "data": {
      "text/html": [
       "<div>\n",
       "<style scoped>\n",
       "    .dataframe tbody tr th:only-of-type {\n",
       "        vertical-align: middle;\n",
       "    }\n",
       "\n",
       "    .dataframe tbody tr th {\n",
       "        vertical-align: top;\n",
       "    }\n",
       "\n",
       "    .dataframe thead th {\n",
       "        text-align: right;\n",
       "    }\n",
       "</style>\n",
       "<table border=\"1\" class=\"dataframe\">\n",
       "  <thead>\n",
       "    <tr style=\"text-align: right;\">\n",
       "      <th></th>\n",
       "      <th>date</th>\n",
       "      <th>country</th>\n",
       "      <th>confirmed</th>\n",
       "      <th>deaths</th>\n",
       "      <th>recovered</th>\n",
       "      <th>recovery_rate</th>\n",
       "      <th>deaths_rate</th>\n",
       "    </tr>\n",
       "  </thead>\n",
       "  <tbody>\n",
       "    <tr>\n",
       "      <th>0</th>\n",
       "      <td>2020-01-22</td>\n",
       "      <td>Afghanistan</td>\n",
       "      <td>0</td>\n",
       "      <td>0</td>\n",
       "      <td>0</td>\n",
       "      <td>0.0</td>\n",
       "      <td>0.0</td>\n",
       "    </tr>\n",
       "    <tr>\n",
       "      <th>1</th>\n",
       "      <td>2020-01-22</td>\n",
       "      <td>Albania</td>\n",
       "      <td>0</td>\n",
       "      <td>0</td>\n",
       "      <td>0</td>\n",
       "      <td>0.0</td>\n",
       "      <td>0.0</td>\n",
       "    </tr>\n",
       "    <tr>\n",
       "      <th>2</th>\n",
       "      <td>2020-01-22</td>\n",
       "      <td>Algeria</td>\n",
       "      <td>0</td>\n",
       "      <td>0</td>\n",
       "      <td>0</td>\n",
       "      <td>0.0</td>\n",
       "      <td>0.0</td>\n",
       "    </tr>\n",
       "    <tr>\n",
       "      <th>3</th>\n",
       "      <td>2020-01-22</td>\n",
       "      <td>Andorra</td>\n",
       "      <td>0</td>\n",
       "      <td>0</td>\n",
       "      <td>0</td>\n",
       "      <td>0.0</td>\n",
       "      <td>0.0</td>\n",
       "    </tr>\n",
       "    <tr>\n",
       "      <th>4</th>\n",
       "      <td>2020-01-22</td>\n",
       "      <td>Angola</td>\n",
       "      <td>0</td>\n",
       "      <td>0</td>\n",
       "      <td>0</td>\n",
       "      <td>0.0</td>\n",
       "      <td>0.0</td>\n",
       "    </tr>\n",
       "  </tbody>\n",
       "</table>\n",
       "</div>"
      ],
      "text/plain": [
       "         date      country  confirmed  deaths  recovered  recovery_rate  \\\n",
       "0  2020-01-22  Afghanistan          0       0          0            0.0   \n",
       "1  2020-01-22      Albania          0       0          0            0.0   \n",
       "2  2020-01-22      Algeria          0       0          0            0.0   \n",
       "3  2020-01-22      Andorra          0       0          0            0.0   \n",
       "4  2020-01-22       Angola          0       0          0            0.0   \n",
       "\n",
       "   deaths_rate  \n",
       "0          0.0  \n",
       "1          0.0  \n",
       "2          0.0  \n",
       "3          0.0  \n",
       "4          0.0  "
      ]
     },
     "execution_count": 264,
     "metadata": {},
     "output_type": "execute_result"
    }
   ],
   "source": [
    "final_df.head()"
   ]
  },
  {
   "cell_type": "code",
   "execution_count": 230,
   "metadata": {},
   "outputs": [],
   "source": []
  },
  {
   "cell_type": "code",
   "execution_count": 269,
   "metadata": {},
   "outputs": [
    {
     "data": {
      "text/plain": [
       "<matplotlib.axes._subplots.AxesSubplot at 0x11d271f50>"
      ]
     },
     "execution_count": 269,
     "metadata": {},
     "output_type": "execute_result"
    },
    {
     "data": {
      "image/png": "[encoded data removed]",
      "text/plain": [
       "<Figure size 432x288 with 1 Axes>"
      ]
     },
     "metadata": {
      "needs_background": "light"
     },
     "output_type": "display_data"
    }
   ],
   "source": [
    "final_df['recovery_rate'].hist()"
   ]
  },
  {
   "cell_type": "code",
   "execution_count": 268,
   "metadata": {},
   "outputs": [
    {
     "data": {
      "text/plain": [
       "0.0        9509\n",
       "1.0         476\n",
       "2.0         285\n",
       "3.0         206\n",
       "4.0         168\n",
       "           ... \n",
       "4516.0        1\n",
       "5198.0        1\n",
       "367.0         1\n",
       "902.0         1\n",
       "26365.0       1\n",
       "Name: recovery_rate, Length: 653, dtype: int64"
      ]
     },
     "execution_count": 268,
     "metadata": {},
     "output_type": "execute_result"
    }
   ],
   "source": [
    "final_df.recovery_rate.value_counts()"
   ]
  },
  {
   "cell_type": "code",
   "execution_count": null,
   "metadata": {},
   "outputs": [],
   "source": []
  }
 ],
 "metadata": {
  "kernelspec": {
   "display_name": "Python 3",
   "language": "python",
   "name": "python3"
  },
  "language_info": {
   "codemirror_mode": {
    "name": "ipython",
    "version": 3
   },
   "file_extension": ".py",
   "mimetype": "text/x-python",
   "name": "python",
   "nbconvert_exporter": "python",
   "pygments_lexer": "ipython3",
   "version": "3.7.5"
  }
 },
 "nbformat": 4,
 "nbformat_minor": 4
}
